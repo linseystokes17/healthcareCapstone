{
 "cells": [
  {
   "cell_type": "code",
   "execution_count": 1,
   "metadata": {},
   "outputs": [],
   "source": [
    "# Import all necessary libraries\n",
    "import requests\n",
    "import pandas as pd\n",
    "import plotly.express as px\n",
    "import plotly.graph_objects as go"
   ]
  },
  {
   "cell_type": "code",
   "execution_count": 2,
   "metadata": {},
   "outputs": [],
   "source": [
    "# Set variables to call APIs\n",
    "company_summary_base_url = 'https://api.census.gov/data/2018/abscs'\n",
    "business_char_base_url = 'https://api.census.gov/data/2018/abscb'\n",
    "owner_char_base_url = 'https://api.census.gov/data/2018/abscbo'\n",
    "api_key = 'key=54fdac0557ae012c182506724253e238427a8b27'\n",
    "state = 'for=state:*'\n",
    "country = 'for=us:*'\n",
    "metro = 'for=metropolitan%20statistical%20area/micropolitan%20statistical%20area:*'"
   ]
  },
  {
   "cell_type": "code",
   "execution_count": null,
   "metadata": {},
   "outputs": [],
   "source": [
    "# Company summary to dataframe\n",
    "variables = 'GEO_ID,NAME,NAICS2017,NAICS2017_LABEL,SEX,SEX_LABEL,ETH_GROUP,ETH_GROUP_LABEL,RACE_GROUP,RACE_GROUP_LABEL,VET_GROUP,VET_GROUP_LABEL,EMPSZFI,EMPSZFI_LABEL,YEAR,FIRMPDEMP,FIRMPDEMP_F,RCPPDEMP,RCPPDEMP_F,EMP,EMP_F,PAYANN,PAYANN_F,FIRMPDEMP_S,FIRMPDEMP_S_F,RCPPDEMP_S,RCPPDEMP_S_F,EMP_S,EMP_S_F,PAYANN_S,PAYANN_S_F,RCPSZFI,YIBSZFI'\n",
    "\n",
    "# country, state, or metro options\n",
    "region = f'get={variables}&{state}'\n",
    "\n",
    "# call API with URL built from variables\n",
    "response = requests.get(f'{company_summary_base_url}?{region}&{api_key}')\n",
    "comp_summary_text = response.json()\n",
    "\n",
    "# Owner Characteristics to dataframe\n",
    "# variables = 'GEO_ID,NAME,NAICS2017,NAICS2017_LABEL,OWNER_SEX,OWNER_SEX_LABEL,OWNER_ETH,OWNER_ETH_LABEL,OWNER_RACE,OWNER_RACE_LABEL,OWNER_VET,OWNER_VET_LABEL,QDESC,QDESC_LABEL,OWNCHAR,OWNCHAR_LABEL,YEAR,OWNPDEMP,OWNPDEMP_F,OWNPDEMP_PCT,OWNPDEMP_PCT_F,OWNPDEMP_S,OWNPDEMP_S_F,OWNPDEMP_PCT_S,OWNPDEMP_PCT_S_F'\n",
    "\n",
    "# # country, state, or metro options\n",
    "# region = f'get={variables}&{country}'\n",
    "# response = requests.get(f'{owner_char_base_url}?{region}&{api_key}')\n",
    "# owner_char_text = response.json()\n",
    "\n",
    "# # Business Characteristics to dataframe\n",
    "# variables = 'GEO_ID,NAME,NAICS2017,NAICS2017_LABEL,SEX,SEX_LABEL,ETH_GROUP,ETH_GROUP_LABEL,RACE_GROUP,RACE_GROUP_LABEL,VET_GROUP,VET_GROUP_LABEL,QDESC,QDESC_LABEL,BUSCHAR,BUSCHAR_LABEL,YEAR,FIRMPDEMP,FIRMPDEMP_F,FIRMPDEMP_PCT,FIRMPDEMP_PCT_F,RCPPDEMP,RCPPDEMP_F,RCPPDEMP_PCT,RCPPDEMP_PCT_F,EMP,EMP_F,EMP_PCT,EMP_PCT_F,PAYANN,PAYANN_F,PAYANN_PCT,PAYANN_PCT_F,FIRMPDEMP_S,FIRMPDEMP_S_F,FIRMPDEMP_PCT_S,FIRMPDEMP_PCT_S_F,RCPPDEMP_S,RCPPDEMP_S_F,RCPPDEMP_PCT_S,RCPPDEMP_PCT_S_F,EMP_S,EMP_S_F,EMP_PCT_S,EMP_PCT_S_F,PAYANN_S,PAYANN_S_F,PAYANN_PCT_S,PAYANN_PCT_S_F,EMPSZFI'\n",
    "\n",
    "# # country, state, or metro options\n",
    "# region = f'get={variables}&{country}'\n",
    "# response = requests.get(f'{business_char_base_url}?{region}&{api_key}')\n",
    "# business_char_text = response.json()"
   ]
  },
  {
   "cell_type": "code",
   "execution_count": null,
   "metadata": {},
   "outputs": [],
   "source": [
    "comp_summary_df = pd.DataFrame(comp_summary_text[1:], columns=comp_summary_text[0])\n",
    "comp_summary_df = comp_summary_df[(comp_summary_df['NAICS2017']=='62')]\n",
    "# healthcare and social assistance\n",
    "\n",
    "comp_summary_df.head()"
   ]
  },
  {
   "cell_type": "code",
   "execution_count": null,
   "metadata": {},
   "outputs": [],
   "source": [
    "# owner_char_df = pd.DataFrame(owner_char_text[1:], columns=owner_char_text[0])\n",
    "# owner_char_df = owner_char_df[(owner_char_df['NAICS2017']=='62')]\n",
    "# owner_char_df.head()"
   ]
  },
  {
   "cell_type": "code",
   "execution_count": null,
   "metadata": {},
   "outputs": [],
   "source": [
    "# # Unused\n",
    "\n",
    "# business_char_df = pd.DataFrame(business_char_text[1:],columns=business_char_text[0])\n",
    "# business_char_df = business_char_df[(business_char_df['NAICS2017']=='62')]\n",
    "# business_char_df.tail()"
   ]
  },
  {
   "cell_type": "code",
   "execution_count": null,
   "metadata": {},
   "outputs": [],
   "source": [
    "comp_summary_health_df = comp_summary_df.copy()\n",
    "code = {'Alabama': 'AL',\n",
    "        'Alaska': 'AK',\n",
    "        'Arizona': 'AZ',\n",
    "        'Arkansas': 'AR',\n",
    "        'California': 'CA',\n",
    "        'Colorado': 'CO',\n",
    "        'Connecticut': 'CT',\n",
    "        'Delaware': 'DE',\n",
    "        'District of Columbia': 'DC',\n",
    "        'Florida': 'FL',\n",
    "        'Georgia': 'GA',\n",
    "        'Hawaii': 'HI',\n",
    "        'Idaho': 'ID',\n",
    "        'Illinois': 'IL',\n",
    "        'Indiana': 'IN',\n",
    "        'Iowa': 'IA',\n",
    "        'Kansas': 'KS',\n",
    "        'Kentucky': 'KY',\n",
    "        'Louisiana': 'LA',\n",
    "        'Maine': 'ME',\n",
    "        'Maryland': 'MD',\n",
    "        'Massachusetts': 'MA',\n",
    "        'Michigan': 'MI',\n",
    "        'Minnesota': 'MN',\n",
    "        'Mississippi': 'MS',\n",
    "        'Missouri': 'MO',\n",
    "        'Montana': 'MT',\n",
    "        'Nebraska': 'NE',\n",
    "        'Nevada': 'NV',\n",
    "        'New Hampshire': 'NH',\n",
    "        'New Jersey': 'NJ',\n",
    "        'New Mexico': 'NM',\n",
    "        'New York': 'NY',\n",
    "        'North Carolina': 'NC',\n",
    "        'North Dakota': 'ND',\n",
    "        'Ohio': 'OH',\n",
    "        'Oklahoma': 'OK',\n",
    "        'Oregon': 'OR',\n",
    "        'Pennsylvania': 'PA',\n",
    "        'Rhode Island': 'RI',\n",
    "        'South Carolina': 'SC',\n",
    "        'South Dakota': 'SD',\n",
    "        'Tennessee': 'TN',\n",
    "        'Texas': 'TX',\n",
    "        'Utah': 'UT',\n",
    "        'Vermont': 'VT',\n",
    "        'Virginia': 'VA',\n",
    "        'Washington': 'WA',\n",
    "        'West Virginia': 'WV',\n",
    "        'Wisconsin': 'WI',\n",
    "        'Wyoming': 'WY'}\n",
    "comp_summary_health_df['Code'] = comp_summary_health_df['NAME'].map(code)\n",
    "comp_summary_health_df.head()"
   ]
  },
  {
   "cell_type": "code",
   "execution_count": null,
   "metadata": {},
   "outputs": [],
   "source": [
    "comp_summary_health_df['EMP'] = comp_summary_health_df['EMP'].astype(int)\n",
    "\n",
    "fig = px.choropleth(comp_summary_health_df,\n",
    "    locations='Code', \n",
    "    color='EMP', \n",
    "    color_continuous_scale='spectral_r',\n",
    "    locationmode=\"USA-states\",\n",
    "    hover_name='NAME',\n",
    "    scope='usa',\n",
    "    labels={'Code':'State', 'EMP':'Number of Employees'}\n",
    ")\n",
    "\n",
    "fig.update_layout(\n",
    "    width = 1000)\n",
    "fig.show()"
   ]
  },
  {
   "cell_type": "code",
   "execution_count": null,
   "metadata": {},
   "outputs": [],
   "source": [
    "comp_summary_health_df['PAYANN'] = comp_summary_health_df['PAYANN'].astype(int)\n",
    "\n",
    "fig = px.histogram(comp_summary_health_df, x='NAME', y='PAYANN', barmode='group', title='Annual Healthcare Payroll by State', labels={'NAME':'State', 'PAYANN':'Annual Pay'})\n",
    "fig.update_layout(\n",
    "    title={        \n",
    "        'y':0.9,\n",
    "        'x':0.5,\n",
    "        'xanchor': 'center',\n",
    "        'yanchor': 'top'},\n",
    "    width = 1000)\n",
    "fig.show()"
   ]
  },
  {
   "cell_type": "code",
   "execution_count": null,
   "metadata": {},
   "outputs": [],
   "source": [
    "fig = px.histogram(comp_summary_health_df, x='NAME', y='EMP',  title='Count of Employees by State', labels={'SEX_LABEL':'Gender', 'NAME':'State', 'PAYANN':'Annual Pay'})\n",
    "fig.update_layout(\n",
    "    title={        \n",
    "        'y':0.9,\n",
    "        'x':0.5,\n",
    "        'xanchor': 'center',\n",
    "        'yanchor': 'top'},\n",
    "    width = 1000)\n",
    "fig.show()"
   ]
  },
  {
   "cell_type": "code",
   "execution_count": null,
   "metadata": {},
   "outputs": [],
   "source": []
  }
 ],
 "metadata": {
  "interpreter": {
   "hash": "38740d3277777e2cd7c6c2cc9d8addf5118fdf3f82b1b39231fd12aeac8aee8b"
  },
  "kernelspec": {
   "display_name": "Python 3",
   "language": "python",
   "name": "python3"
  },
  "language_info": {
   "codemirror_mode": {
    "name": "ipython",
    "version": 3
   },
   "file_extension": ".py",
   "mimetype": "text/x-python",
   "name": "python",
   "nbconvert_exporter": "python",
   "pygments_lexer": "ipython3",
   "version": "3.9.2"
  }
 },
 "nbformat": 4,
 "nbformat_minor": 2
}
