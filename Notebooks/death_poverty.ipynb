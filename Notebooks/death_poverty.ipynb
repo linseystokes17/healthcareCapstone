{
 "cells": [
  {
   "cell_type": "code",
   "execution_count": 2,
   "metadata": {},
   "outputs": [
    {
     "ename": "FileNotFoundError",
     "evalue": "[Errno 2] No such file or directory: 'Death Rates and Poverty Merged.csv'",
     "output_type": "error",
     "traceback": [
      "\u001b[1;31m---------------------------------------------------------------------------\u001b[0m",
      "\u001b[1;31mFileNotFoundError\u001b[0m                         Traceback (most recent call last)",
      "\u001b[1;32m<ipython-input-2-5d5bf8351561>\u001b[0m in \u001b[0;36m<module>\u001b[1;34m\u001b[0m\n\u001b[0;32m      5\u001b[0m \u001b[1;32mimport\u001b[0m \u001b[0mplotly\u001b[0m\u001b[1;33m.\u001b[0m\u001b[0mexpress\u001b[0m \u001b[1;32mas\u001b[0m \u001b[0mpx\u001b[0m\u001b[1;33m\u001b[0m\u001b[1;33m\u001b[0m\u001b[0m\n\u001b[0;32m      6\u001b[0m \u001b[1;33m\u001b[0m\u001b[0m\n\u001b[1;32m----> 7\u001b[1;33m \u001b[0mdf\u001b[0m \u001b[1;33m=\u001b[0m \u001b[0mpd\u001b[0m\u001b[1;33m.\u001b[0m\u001b[0mread_csv\u001b[0m\u001b[1;33m(\u001b[0m\u001b[1;34m'Death Rates and Poverty Merged.csv'\u001b[0m\u001b[1;33m)\u001b[0m\u001b[1;33m\u001b[0m\u001b[1;33m\u001b[0m\u001b[0m\n\u001b[0m",
      "\u001b[1;32mC:\\Python\\lib\\site-packages\\pandas\\io\\parsers.py\u001b[0m in \u001b[0;36mread_csv\u001b[1;34m(filepath_or_buffer, sep, delimiter, header, names, index_col, usecols, squeeze, prefix, mangle_dupe_cols, dtype, engine, converters, true_values, false_values, skipinitialspace, skiprows, skipfooter, nrows, na_values, keep_default_na, na_filter, verbose, skip_blank_lines, parse_dates, infer_datetime_format, keep_date_col, date_parser, dayfirst, cache_dates, iterator, chunksize, compression, thousands, decimal, lineterminator, quotechar, quoting, doublequote, escapechar, comment, encoding, dialect, error_bad_lines, warn_bad_lines, delim_whitespace, low_memory, memory_map, float_precision, storage_options)\u001b[0m\n\u001b[0;32m    608\u001b[0m     \u001b[0mkwds\u001b[0m\u001b[1;33m.\u001b[0m\u001b[0mupdate\u001b[0m\u001b[1;33m(\u001b[0m\u001b[0mkwds_defaults\u001b[0m\u001b[1;33m)\u001b[0m\u001b[1;33m\u001b[0m\u001b[1;33m\u001b[0m\u001b[0m\n\u001b[0;32m    609\u001b[0m \u001b[1;33m\u001b[0m\u001b[0m\n\u001b[1;32m--> 610\u001b[1;33m     \u001b[1;32mreturn\u001b[0m \u001b[0m_read\u001b[0m\u001b[1;33m(\u001b[0m\u001b[0mfilepath_or_buffer\u001b[0m\u001b[1;33m,\u001b[0m \u001b[0mkwds\u001b[0m\u001b[1;33m)\u001b[0m\u001b[1;33m\u001b[0m\u001b[1;33m\u001b[0m\u001b[0m\n\u001b[0m\u001b[0;32m    611\u001b[0m \u001b[1;33m\u001b[0m\u001b[0m\n\u001b[0;32m    612\u001b[0m \u001b[1;33m\u001b[0m\u001b[0m\n",
      "\u001b[1;32mC:\\Python\\lib\\site-packages\\pandas\\io\\parsers.py\u001b[0m in \u001b[0;36m_read\u001b[1;34m(filepath_or_buffer, kwds)\u001b[0m\n\u001b[0;32m    460\u001b[0m \u001b[1;33m\u001b[0m\u001b[0m\n\u001b[0;32m    461\u001b[0m     \u001b[1;31m# Create the parser.\u001b[0m\u001b[1;33m\u001b[0m\u001b[1;33m\u001b[0m\u001b[1;33m\u001b[0m\u001b[0m\n\u001b[1;32m--> 462\u001b[1;33m     \u001b[0mparser\u001b[0m \u001b[1;33m=\u001b[0m \u001b[0mTextFileReader\u001b[0m\u001b[1;33m(\u001b[0m\u001b[0mfilepath_or_buffer\u001b[0m\u001b[1;33m,\u001b[0m \u001b[1;33m**\u001b[0m\u001b[0mkwds\u001b[0m\u001b[1;33m)\u001b[0m\u001b[1;33m\u001b[0m\u001b[1;33m\u001b[0m\u001b[0m\n\u001b[0m\u001b[0;32m    463\u001b[0m \u001b[1;33m\u001b[0m\u001b[0m\n\u001b[0;32m    464\u001b[0m     \u001b[1;32mif\u001b[0m \u001b[0mchunksize\u001b[0m \u001b[1;32mor\u001b[0m \u001b[0miterator\u001b[0m\u001b[1;33m:\u001b[0m\u001b[1;33m\u001b[0m\u001b[1;33m\u001b[0m\u001b[0m\n",
      "\u001b[1;32mC:\\Python\\lib\\site-packages\\pandas\\io\\parsers.py\u001b[0m in \u001b[0;36m__init__\u001b[1;34m(self, f, engine, **kwds)\u001b[0m\n\u001b[0;32m    817\u001b[0m             \u001b[0mself\u001b[0m\u001b[1;33m.\u001b[0m\u001b[0moptions\u001b[0m\u001b[1;33m[\u001b[0m\u001b[1;34m\"has_index_names\"\u001b[0m\u001b[1;33m]\u001b[0m \u001b[1;33m=\u001b[0m \u001b[0mkwds\u001b[0m\u001b[1;33m[\u001b[0m\u001b[1;34m\"has_index_names\"\u001b[0m\u001b[1;33m]\u001b[0m\u001b[1;33m\u001b[0m\u001b[1;33m\u001b[0m\u001b[0m\n\u001b[0;32m    818\u001b[0m \u001b[1;33m\u001b[0m\u001b[0m\n\u001b[1;32m--> 819\u001b[1;33m         \u001b[0mself\u001b[0m\u001b[1;33m.\u001b[0m\u001b[0m_engine\u001b[0m \u001b[1;33m=\u001b[0m \u001b[0mself\u001b[0m\u001b[1;33m.\u001b[0m\u001b[0m_make_engine\u001b[0m\u001b[1;33m(\u001b[0m\u001b[0mself\u001b[0m\u001b[1;33m.\u001b[0m\u001b[0mengine\u001b[0m\u001b[1;33m)\u001b[0m\u001b[1;33m\u001b[0m\u001b[1;33m\u001b[0m\u001b[0m\n\u001b[0m\u001b[0;32m    820\u001b[0m \u001b[1;33m\u001b[0m\u001b[0m\n\u001b[0;32m    821\u001b[0m     \u001b[1;32mdef\u001b[0m \u001b[0mclose\u001b[0m\u001b[1;33m(\u001b[0m\u001b[0mself\u001b[0m\u001b[1;33m)\u001b[0m\u001b[1;33m:\u001b[0m\u001b[1;33m\u001b[0m\u001b[1;33m\u001b[0m\u001b[0m\n",
      "\u001b[1;32mC:\\Python\\lib\\site-packages\\pandas\\io\\parsers.py\u001b[0m in \u001b[0;36m_make_engine\u001b[1;34m(self, engine)\u001b[0m\n\u001b[0;32m   1048\u001b[0m             )\n\u001b[0;32m   1049\u001b[0m         \u001b[1;31m# error: Too many arguments for \"ParserBase\"\u001b[0m\u001b[1;33m\u001b[0m\u001b[1;33m\u001b[0m\u001b[1;33m\u001b[0m\u001b[0m\n\u001b[1;32m-> 1050\u001b[1;33m         \u001b[1;32mreturn\u001b[0m \u001b[0mmapping\u001b[0m\u001b[1;33m[\u001b[0m\u001b[0mengine\u001b[0m\u001b[1;33m]\u001b[0m\u001b[1;33m(\u001b[0m\u001b[0mself\u001b[0m\u001b[1;33m.\u001b[0m\u001b[0mf\u001b[0m\u001b[1;33m,\u001b[0m \u001b[1;33m**\u001b[0m\u001b[0mself\u001b[0m\u001b[1;33m.\u001b[0m\u001b[0moptions\u001b[0m\u001b[1;33m)\u001b[0m  \u001b[1;31m# type: ignore[call-arg]\u001b[0m\u001b[1;33m\u001b[0m\u001b[1;33m\u001b[0m\u001b[0m\n\u001b[0m\u001b[0;32m   1051\u001b[0m \u001b[1;33m\u001b[0m\u001b[0m\n\u001b[0;32m   1052\u001b[0m     \u001b[1;32mdef\u001b[0m \u001b[0m_failover_to_python\u001b[0m\u001b[1;33m(\u001b[0m\u001b[0mself\u001b[0m\u001b[1;33m)\u001b[0m\u001b[1;33m:\u001b[0m\u001b[1;33m\u001b[0m\u001b[1;33m\u001b[0m\u001b[0m\n",
      "\u001b[1;32mC:\\Python\\lib\\site-packages\\pandas\\io\\parsers.py\u001b[0m in \u001b[0;36m__init__\u001b[1;34m(self, src, **kwds)\u001b[0m\n\u001b[0;32m   1865\u001b[0m \u001b[1;33m\u001b[0m\u001b[0m\n\u001b[0;32m   1866\u001b[0m         \u001b[1;31m# open handles\u001b[0m\u001b[1;33m\u001b[0m\u001b[1;33m\u001b[0m\u001b[1;33m\u001b[0m\u001b[0m\n\u001b[1;32m-> 1867\u001b[1;33m         \u001b[0mself\u001b[0m\u001b[1;33m.\u001b[0m\u001b[0m_open_handles\u001b[0m\u001b[1;33m(\u001b[0m\u001b[0msrc\u001b[0m\u001b[1;33m,\u001b[0m \u001b[0mkwds\u001b[0m\u001b[1;33m)\u001b[0m\u001b[1;33m\u001b[0m\u001b[1;33m\u001b[0m\u001b[0m\n\u001b[0m\u001b[0;32m   1868\u001b[0m         \u001b[1;32massert\u001b[0m \u001b[0mself\u001b[0m\u001b[1;33m.\u001b[0m\u001b[0mhandles\u001b[0m \u001b[1;32mis\u001b[0m \u001b[1;32mnot\u001b[0m \u001b[1;32mNone\u001b[0m\u001b[1;33m\u001b[0m\u001b[1;33m\u001b[0m\u001b[0m\n\u001b[0;32m   1869\u001b[0m         \u001b[1;32mfor\u001b[0m \u001b[0mkey\u001b[0m \u001b[1;32min\u001b[0m \u001b[1;33m(\u001b[0m\u001b[1;34m\"storage_options\"\u001b[0m\u001b[1;33m,\u001b[0m \u001b[1;34m\"encoding\"\u001b[0m\u001b[1;33m,\u001b[0m \u001b[1;34m\"memory_map\"\u001b[0m\u001b[1;33m,\u001b[0m \u001b[1;34m\"compression\"\u001b[0m\u001b[1;33m)\u001b[0m\u001b[1;33m:\u001b[0m\u001b[1;33m\u001b[0m\u001b[1;33m\u001b[0m\u001b[0m\n",
      "\u001b[1;32mC:\\Python\\lib\\site-packages\\pandas\\io\\parsers.py\u001b[0m in \u001b[0;36m_open_handles\u001b[1;34m(self, src, kwds)\u001b[0m\n\u001b[0;32m   1360\u001b[0m         \u001b[0mLet\u001b[0m \u001b[0mthe\u001b[0m \u001b[0mreaders\u001b[0m \u001b[0mopen\u001b[0m \u001b[0mIOHanldes\u001b[0m \u001b[0mafter\u001b[0m \u001b[0mthey\u001b[0m \u001b[0mare\u001b[0m \u001b[0mdone\u001b[0m \u001b[1;32mwith\u001b[0m \u001b[0mtheir\u001b[0m \u001b[0mpotential\u001b[0m \u001b[0mraises\u001b[0m\u001b[1;33m.\u001b[0m\u001b[1;33m\u001b[0m\u001b[1;33m\u001b[0m\u001b[0m\n\u001b[0;32m   1361\u001b[0m         \"\"\"\n\u001b[1;32m-> 1362\u001b[1;33m         self.handles = get_handle(\n\u001b[0m\u001b[0;32m   1363\u001b[0m             \u001b[0msrc\u001b[0m\u001b[1;33m,\u001b[0m\u001b[1;33m\u001b[0m\u001b[1;33m\u001b[0m\u001b[0m\n\u001b[0;32m   1364\u001b[0m             \u001b[1;34m\"r\"\u001b[0m\u001b[1;33m,\u001b[0m\u001b[1;33m\u001b[0m\u001b[1;33m\u001b[0m\u001b[0m\n",
      "\u001b[1;32mC:\\Python\\lib\\site-packages\\pandas\\io\\common.py\u001b[0m in \u001b[0;36mget_handle\u001b[1;34m(path_or_buf, mode, encoding, compression, memory_map, is_text, errors, storage_options)\u001b[0m\n\u001b[0;32m    640\u001b[0m                 \u001b[0merrors\u001b[0m \u001b[1;33m=\u001b[0m \u001b[1;34m\"replace\"\u001b[0m\u001b[1;33m\u001b[0m\u001b[1;33m\u001b[0m\u001b[0m\n\u001b[0;32m    641\u001b[0m             \u001b[1;31m# Encoding\u001b[0m\u001b[1;33m\u001b[0m\u001b[1;33m\u001b[0m\u001b[1;33m\u001b[0m\u001b[0m\n\u001b[1;32m--> 642\u001b[1;33m             handle = open(\n\u001b[0m\u001b[0;32m    643\u001b[0m                 \u001b[0mhandle\u001b[0m\u001b[1;33m,\u001b[0m\u001b[1;33m\u001b[0m\u001b[1;33m\u001b[0m\u001b[0m\n\u001b[0;32m    644\u001b[0m                 \u001b[0mioargs\u001b[0m\u001b[1;33m.\u001b[0m\u001b[0mmode\u001b[0m\u001b[1;33m,\u001b[0m\u001b[1;33m\u001b[0m\u001b[1;33m\u001b[0m\u001b[0m\n",
      "\u001b[1;31mFileNotFoundError\u001b[0m: [Errno 2] No such file or directory: 'Death Rates and Poverty Merged.csv'"
     ]
    }
   ],
   "source": [
    "import pandas as pd\r\n",
    "import matplotlib.pyplot as plt\r\n",
    "import numpy as np\r\n",
    "import seaborn as sns\r\n",
    "import plotly.express as px\r\n",
    "\r\n",
    "df = pd.read_csv('Death Rates and Poverty Merged.csv')"
   ]
  },
  {
   "cell_type": "code",
   "execution_count": null,
   "metadata": {},
   "outputs": [
    {
     "data": {
      "text/html": [
       "<div>\n",
       "<style scoped>\n",
       "    .dataframe tbody tr th:only-of-type {\n",
       "        vertical-align: middle;\n",
       "    }\n",
       "\n",
       "    .dataframe tbody tr th {\n",
       "        vertical-align: top;\n",
       "    }\n",
       "\n",
       "    .dataframe thead th {\n",
       "        text-align: right;\n",
       "    }\n",
       "</style>\n",
       "<table border=\"1\" class=\"dataframe\">\n",
       "  <thead>\n",
       "    <tr style=\"text-align: right;\">\n",
       "      <th></th>\n",
       "      <th>State</th>\n",
       "      <th>Year</th>\n",
       "      <th>All_Ages_SAIPE_Poverty_Universe</th>\n",
       "      <th>All_Ages_in_Poverty_Count</th>\n",
       "      <th>All_Ages_in_Poverty_Count_LB_90%</th>\n",
       "      <th>All_Ages_in_Poverty_Count_UB_90%</th>\n",
       "      <th>90%_Confidence_Interval_(All_Ages_in_Poverty_Count)</th>\n",
       "      <th>All_Ages_in_Poverty_Percent</th>\n",
       "      <th>All_Ages_in_Poverty_Percent_LB_90%</th>\n",
       "      <th>All_Ages_in_Poverty_Percent_UB_90%</th>\n",
       "      <th>90%_Confidence_Interval_(All_Ages_in_Poverty_Percent)</th>\n",
       "      <th>Median_Household_Income_in_Dollars</th>\n",
       "      <th>Median_Household_Income_in_Dollars_LB_90%</th>\n",
       "      <th>Median_Household_Income_in_Dollars_UB_90%</th>\n",
       "      <th>90%_Confidence_Interval_(Median_Household_Income_in_Dollars)</th>\n",
       "      <th>Deaths</th>\n",
       "      <th>Population</th>\n",
       "      <th>Crude Rate</th>\n",
       "    </tr>\n",
       "  </thead>\n",
       "  <tbody>\n",
       "    <tr>\n",
       "      <th>0</th>\n",
       "      <td>Alabama</td>\n",
       "      <td>2019</td>\n",
       "      <td>4781642</td>\n",
       "      <td>747478</td>\n",
       "      <td>730491</td>\n",
       "      <td>764465</td>\n",
       "      <td>730,491 to 764,465</td>\n",
       "      <td>15.6</td>\n",
       "      <td>15.2</td>\n",
       "      <td>16.0</td>\n",
       "      <td>15.2 to 16.0</td>\n",
       "      <td>51771</td>\n",
       "      <td>51179</td>\n",
       "      <td>52363</td>\n",
       "      <td>$51,179 to $52,363</td>\n",
       "      <td>54108</td>\n",
       "      <td>4903185</td>\n",
       "      <td>1103.5</td>\n",
       "    </tr>\n",
       "    <tr>\n",
       "      <th>1</th>\n",
       "      <td>Alabama</td>\n",
       "      <td>2015</td>\n",
       "      <td>4736374</td>\n",
       "      <td>875853</td>\n",
       "      <td>859781</td>\n",
       "      <td>891925</td>\n",
       "      <td>859,781 to 891,925</td>\n",
       "      <td>18.5</td>\n",
       "      <td>18.2</td>\n",
       "      <td>18.8</td>\n",
       "      <td>18.2 to 18.8</td>\n",
       "      <td>44833</td>\n",
       "      <td>44110</td>\n",
       "      <td>45556</td>\n",
       "      <td>$44,110 to $45,556</td>\n",
       "      <td>51909</td>\n",
       "      <td>4858979</td>\n",
       "      <td>1068.3</td>\n",
       "    </tr>\n",
       "    <tr>\n",
       "      <th>2</th>\n",
       "      <td>Alabama</td>\n",
       "      <td>2018</td>\n",
       "      <td>4763811</td>\n",
       "      <td>801758</td>\n",
       "      <td>785668</td>\n",
       "      <td>817848</td>\n",
       "      <td>785,668 to 817,848</td>\n",
       "      <td>16.8</td>\n",
       "      <td>16.5</td>\n",
       "      <td>17.1</td>\n",
       "      <td>16.5 to 17.1</td>\n",
       "      <td>49881</td>\n",
       "      <td>49123</td>\n",
       "      <td>50639</td>\n",
       "      <td>$49,123 to $50,639</td>\n",
       "      <td>54352</td>\n",
       "      <td>4887871</td>\n",
       "      <td>1112.0</td>\n",
       "    </tr>\n",
       "    <tr>\n",
       "      <th>3</th>\n",
       "      <td>Alaska</td>\n",
       "      <td>2015</td>\n",
       "      <td>720764</td>\n",
       "      <td>74941</td>\n",
       "      <td>71399</td>\n",
       "      <td>78483</td>\n",
       "      <td>71,399 to 78,483</td>\n",
       "      <td>10.4</td>\n",
       "      <td>9.9</td>\n",
       "      <td>10.9</td>\n",
       "      <td>9.9 to 10.9</td>\n",
       "      <td>73391</td>\n",
       "      <td>71522</td>\n",
       "      <td>75260</td>\n",
       "      <td>$71,522 to $75,260</td>\n",
       "      <td>4316</td>\n",
       "      <td>738432</td>\n",
       "      <td>584.5</td>\n",
       "    </tr>\n",
       "    <tr>\n",
       "      <th>4</th>\n",
       "      <td>Alabama</td>\n",
       "      <td>2017</td>\n",
       "      <td>4752519</td>\n",
       "      <td>802263</td>\n",
       "      <td>784517</td>\n",
       "      <td>820009</td>\n",
       "      <td>784,517 to 820,009</td>\n",
       "      <td>16.9</td>\n",
       "      <td>16.5</td>\n",
       "      <td>17.3</td>\n",
       "      <td>16.5 to 17.3</td>\n",
       "      <td>48193</td>\n",
       "      <td>47451</td>\n",
       "      <td>48935</td>\n",
       "      <td>$47,451 to $48,935</td>\n",
       "      <td>53238</td>\n",
       "      <td>4874747</td>\n",
       "      <td>1092.1</td>\n",
       "    </tr>\n",
       "  </tbody>\n",
       "</table>\n",
       "</div>"
      ],
      "text/plain": [
       "     State  Year  All_Ages_SAIPE_Poverty_Universe  All_Ages_in_Poverty_Count  \\\n",
       "0  Alabama  2019                          4781642                     747478   \n",
       "1  Alabama  2015                          4736374                     875853   \n",
       "2  Alabama  2018                          4763811                     801758   \n",
       "3   Alaska  2015                           720764                      74941   \n",
       "4  Alabama  2017                          4752519                     802263   \n",
       "\n",
       "   All_Ages_in_Poverty_Count_LB_90%  All_Ages_in_Poverty_Count_UB_90%  \\\n",
       "0                            730491                            764465   \n",
       "1                            859781                            891925   \n",
       "2                            785668                            817848   \n",
       "3                             71399                             78483   \n",
       "4                            784517                            820009   \n",
       "\n",
       "  90%_Confidence_Interval_(All_Ages_in_Poverty_Count)  \\\n",
       "0                                 730,491 to 764,465    \n",
       "1                                 859,781 to 891,925    \n",
       "2                                 785,668 to 817,848    \n",
       "3                                   71,399 to 78,483    \n",
       "4                                 784,517 to 820,009    \n",
       "\n",
       "   All_Ages_in_Poverty_Percent  All_Ages_in_Poverty_Percent_LB_90%  \\\n",
       "0                         15.6                                15.2   \n",
       "1                         18.5                                18.2   \n",
       "2                         16.8                                16.5   \n",
       "3                         10.4                                 9.9   \n",
       "4                         16.9                                16.5   \n",
       "\n",
       "   All_Ages_in_Poverty_Percent_UB_90%  \\\n",
       "0                                16.0   \n",
       "1                                18.8   \n",
       "2                                17.1   \n",
       "3                                10.9   \n",
       "4                                17.3   \n",
       "\n",
       "  90%_Confidence_Interval_(All_Ages_in_Poverty_Percent)  \\\n",
       "0                                       15.2 to 16.0      \n",
       "1                                       18.2 to 18.8      \n",
       "2                                       16.5 to 17.1      \n",
       "3                                        9.9 to 10.9      \n",
       "4                                       16.5 to 17.3      \n",
       "\n",
       "   Median_Household_Income_in_Dollars  \\\n",
       "0                               51771   \n",
       "1                               44833   \n",
       "2                               49881   \n",
       "3                               73391   \n",
       "4                               48193   \n",
       "\n",
       "   Median_Household_Income_in_Dollars_LB_90%  \\\n",
       "0                                      51179   \n",
       "1                                      44110   \n",
       "2                                      49123   \n",
       "3                                      71522   \n",
       "4                                      47451   \n",
       "\n",
       "   Median_Household_Income_in_Dollars_UB_90%  \\\n",
       "0                                      52363   \n",
       "1                                      45556   \n",
       "2                                      50639   \n",
       "3                                      75260   \n",
       "4                                      48935   \n",
       "\n",
       "  90%_Confidence_Interval_(Median_Household_Income_in_Dollars)  Deaths  \\\n",
       "0                                 $51,179 to $52,363             54108   \n",
       "1                                 $44,110 to $45,556             51909   \n",
       "2                                 $49,123 to $50,639             54352   \n",
       "3                                 $71,522 to $75,260              4316   \n",
       "4                                 $47,451 to $48,935             53238   \n",
       "\n",
       "   Population  Crude Rate  \n",
       "0     4903185      1103.5  \n",
       "1     4858979      1068.3  \n",
       "2     4887871      1112.0  \n",
       "3      738432       584.5  \n",
       "4     4874747      1092.1  "
      ]
     },
     "execution_count": 2,
     "metadata": {},
     "output_type": "execute_result"
    }
   ],
   "source": [
    "df.head()"
   ]
  },
  {
   "cell_type": "code",
   "execution_count": null,
   "metadata": {},
   "outputs": [
    {
     "data": {
      "text/html": [
       "<div>\n",
       "<style scoped>\n",
       "    .dataframe tbody tr th:only-of-type {\n",
       "        vertical-align: middle;\n",
       "    }\n",
       "\n",
       "    .dataframe tbody tr th {\n",
       "        vertical-align: top;\n",
       "    }\n",
       "\n",
       "    .dataframe thead th {\n",
       "        text-align: right;\n",
       "    }\n",
       "</style>\n",
       "<table border=\"1\" class=\"dataframe\">\n",
       "  <thead>\n",
       "    <tr style=\"text-align: right;\">\n",
       "      <th></th>\n",
       "      <th>Year</th>\n",
       "      <th>All_Ages_SAIPE_Poverty_Universe</th>\n",
       "      <th>All_Ages_in_Poverty_Count</th>\n",
       "      <th>All_Ages_in_Poverty_Count_LB_90%</th>\n",
       "      <th>All_Ages_in_Poverty_Count_UB_90%</th>\n",
       "      <th>All_Ages_in_Poverty_Percent</th>\n",
       "      <th>All_Ages_in_Poverty_Percent_LB_90%</th>\n",
       "      <th>All_Ages_in_Poverty_Percent_UB_90%</th>\n",
       "      <th>Median_Household_Income_in_Dollars</th>\n",
       "      <th>Median_Household_Income_in_Dollars_LB_90%</th>\n",
       "      <th>Median_Household_Income_in_Dollars_UB_90%</th>\n",
       "      <th>Deaths</th>\n",
       "      <th>Population</th>\n",
       "      <th>Crude Rate</th>\n",
       "    </tr>\n",
       "  </thead>\n",
       "  <tbody>\n",
       "    <tr>\n",
       "      <th>Year</th>\n",
       "      <td>1.000000</td>\n",
       "      <td>0.006787</td>\n",
       "      <td>-0.043739</td>\n",
       "      <td>-0.044234</td>\n",
       "      <td>-0.043253</td>\n",
       "      <td>-0.231767</td>\n",
       "      <td>-0.232219</td>\n",
       "      <td>-0.230644</td>\n",
       "      <td>0.297648</td>\n",
       "      <td>0.296356</td>\n",
       "      <td>0.298417</td>\n",
       "      <td>0.019231</td>\n",
       "      <td>0.006789</td>\n",
       "      <td>0.085468</td>\n",
       "    </tr>\n",
       "    <tr>\n",
       "      <th>All_Ages_SAIPE_Poverty_Universe</th>\n",
       "      <td>0.006787</td>\n",
       "      <td>1.000000</td>\n",
       "      <td>0.986846</td>\n",
       "      <td>0.986754</td>\n",
       "      <td>0.986928</td>\n",
       "      <td>0.101825</td>\n",
       "      <td>0.137744</td>\n",
       "      <td>0.066026</td>\n",
       "      <td>0.082509</td>\n",
       "      <td>0.109176</td>\n",
       "      <td>0.056562</td>\n",
       "      <td>0.977282</td>\n",
       "      <td>0.999988</td>\n",
       "      <td>-0.246211</td>\n",
       "    </tr>\n",
       "    <tr>\n",
       "      <th>All_Ages_in_Poverty_Count</th>\n",
       "      <td>-0.043739</td>\n",
       "      <td>0.986846</td>\n",
       "      <td>1.000000</td>\n",
       "      <td>0.999996</td>\n",
       "      <td>0.999996</td>\n",
       "      <td>0.216769</td>\n",
       "      <td>0.250734</td>\n",
       "      <td>0.182568</td>\n",
       "      <td>-0.027136</td>\n",
       "      <td>-0.002082</td>\n",
       "      <td>-0.051344</td>\n",
       "      <td>0.967169</td>\n",
       "      <td>0.986888</td>\n",
       "      <td>-0.198769</td>\n",
       "    </tr>\n",
       "    <tr>\n",
       "      <th>All_Ages_in_Poverty_Count_LB_90%</th>\n",
       "      <td>-0.044234</td>\n",
       "      <td>0.986754</td>\n",
       "      <td>0.999996</td>\n",
       "      <td>1.000000</td>\n",
       "      <td>0.999983</td>\n",
       "      <td>0.216444</td>\n",
       "      <td>0.250341</td>\n",
       "      <td>0.182310</td>\n",
       "      <td>-0.026956</td>\n",
       "      <td>-0.001961</td>\n",
       "      <td>-0.051109</td>\n",
       "      <td>0.966759</td>\n",
       "      <td>0.986791</td>\n",
       "      <td>-0.199095</td>\n",
       "    </tr>\n",
       "    <tr>\n",
       "      <th>All_Ages_in_Poverty_Count_UB_90%</th>\n",
       "      <td>-0.043253</td>\n",
       "      <td>0.986928</td>\n",
       "      <td>0.999996</td>\n",
       "      <td>0.999983</td>\n",
       "      <td>1.000000</td>\n",
       "      <td>0.217086</td>\n",
       "      <td>0.251117</td>\n",
       "      <td>0.182819</td>\n",
       "      <td>-0.027312</td>\n",
       "      <td>-0.002200</td>\n",
       "      <td>-0.051575</td>\n",
       "      <td>0.967564</td>\n",
       "      <td>0.986975</td>\n",
       "      <td>-0.198447</td>\n",
       "    </tr>\n",
       "    <tr>\n",
       "      <th>All_Ages_in_Poverty_Percent</th>\n",
       "      <td>-0.231767</td>\n",
       "      <td>0.101825</td>\n",
       "      <td>0.216769</td>\n",
       "      <td>0.216444</td>\n",
       "      <td>0.217086</td>\n",
       "      <td>1.000000</td>\n",
       "      <td>0.998518</td>\n",
       "      <td>0.998552</td>\n",
       "      <td>-0.754686</td>\n",
       "      <td>-0.753851</td>\n",
       "      <td>-0.754273</td>\n",
       "      <td>0.148091</td>\n",
       "      <td>0.102432</td>\n",
       "      <td>0.432602</td>\n",
       "    </tr>\n",
       "    <tr>\n",
       "      <th>All_Ages_in_Poverty_Percent_LB_90%</th>\n",
       "      <td>-0.232219</td>\n",
       "      <td>0.137744</td>\n",
       "      <td>0.250734</td>\n",
       "      <td>0.250341</td>\n",
       "      <td>0.251117</td>\n",
       "      <td>0.998518</td>\n",
       "      <td>1.000000</td>\n",
       "      <td>0.994145</td>\n",
       "      <td>-0.756085</td>\n",
       "      <td>-0.753225</td>\n",
       "      <td>-0.757630</td>\n",
       "      <td>0.186596</td>\n",
       "      <td>0.138412</td>\n",
       "      <td>0.431617</td>\n",
       "    </tr>\n",
       "    <tr>\n",
       "      <th>All_Ages_in_Poverty_Percent_UB_90%</th>\n",
       "      <td>-0.230644</td>\n",
       "      <td>0.066026</td>\n",
       "      <td>0.182568</td>\n",
       "      <td>0.182310</td>\n",
       "      <td>0.182819</td>\n",
       "      <td>0.998552</td>\n",
       "      <td>0.994145</td>\n",
       "      <td>1.000000</td>\n",
       "      <td>-0.751104</td>\n",
       "      <td>-0.752275</td>\n",
       "      <td>-0.748758</td>\n",
       "      <td>0.109602</td>\n",
       "      <td>0.066572</td>\n",
       "      <td>0.432316</td>\n",
       "    </tr>\n",
       "    <tr>\n",
       "      <th>Median_Household_Income_in_Dollars</th>\n",
       "      <td>0.297648</td>\n",
       "      <td>0.082509</td>\n",
       "      <td>-0.027136</td>\n",
       "      <td>-0.026956</td>\n",
       "      <td>-0.027312</td>\n",
       "      <td>-0.754686</td>\n",
       "      <td>-0.756085</td>\n",
       "      <td>-0.751104</td>\n",
       "      <td>1.000000</td>\n",
       "      <td>0.999151</td>\n",
       "      <td>0.999205</td>\n",
       "      <td>0.004153</td>\n",
       "      <td>0.081842</td>\n",
       "      <td>-0.636692</td>\n",
       "    </tr>\n",
       "    <tr>\n",
       "      <th>Median_Household_Income_in_Dollars_LB_90%</th>\n",
       "      <td>0.296356</td>\n",
       "      <td>0.109176</td>\n",
       "      <td>-0.002082</td>\n",
       "      <td>-0.001961</td>\n",
       "      <td>-0.002200</td>\n",
       "      <td>-0.753851</td>\n",
       "      <td>-0.753225</td>\n",
       "      <td>-0.752275</td>\n",
       "      <td>0.999151</td>\n",
       "      <td>1.000000</td>\n",
       "      <td>0.996715</td>\n",
       "      <td>0.032581</td>\n",
       "      <td>0.108557</td>\n",
       "      <td>-0.639031</td>\n",
       "    </tr>\n",
       "    <tr>\n",
       "      <th>Median_Household_Income_in_Dollars_UB_90%</th>\n",
       "      <td>0.298417</td>\n",
       "      <td>0.056562</td>\n",
       "      <td>-0.051344</td>\n",
       "      <td>-0.051109</td>\n",
       "      <td>-0.051575</td>\n",
       "      <td>-0.754273</td>\n",
       "      <td>-0.757630</td>\n",
       "      <td>-0.748758</td>\n",
       "      <td>0.999205</td>\n",
       "      <td>0.996715</td>\n",
       "      <td>1.000000</td>\n",
       "      <td>-0.023372</td>\n",
       "      <td>0.055851</td>\n",
       "      <td>-0.633398</td>\n",
       "    </tr>\n",
       "    <tr>\n",
       "      <th>Deaths</th>\n",
       "      <td>0.019231</td>\n",
       "      <td>0.977282</td>\n",
       "      <td>0.967169</td>\n",
       "      <td>0.966759</td>\n",
       "      <td>0.967564</td>\n",
       "      <td>0.148091</td>\n",
       "      <td>0.186596</td>\n",
       "      <td>0.109602</td>\n",
       "      <td>0.004153</td>\n",
       "      <td>0.032581</td>\n",
       "      <td>-0.023372</td>\n",
       "      <td>1.000000</td>\n",
       "      <td>0.977841</td>\n",
       "      <td>-0.116761</td>\n",
       "    </tr>\n",
       "    <tr>\n",
       "      <th>Population</th>\n",
       "      <td>0.006789</td>\n",
       "      <td>0.999988</td>\n",
       "      <td>0.986888</td>\n",
       "      <td>0.986791</td>\n",
       "      <td>0.986975</td>\n",
       "      <td>0.102432</td>\n",
       "      <td>0.138412</td>\n",
       "      <td>0.066572</td>\n",
       "      <td>0.081842</td>\n",
       "      <td>0.108557</td>\n",
       "      <td>0.055851</td>\n",
       "      <td>0.977841</td>\n",
       "      <td>1.000000</td>\n",
       "      <td>-0.244644</td>\n",
       "    </tr>\n",
       "    <tr>\n",
       "      <th>Crude Rate</th>\n",
       "      <td>0.085468</td>\n",
       "      <td>-0.246211</td>\n",
       "      <td>-0.198769</td>\n",
       "      <td>-0.199095</td>\n",
       "      <td>-0.198447</td>\n",
       "      <td>0.432602</td>\n",
       "      <td>0.431617</td>\n",
       "      <td>0.432316</td>\n",
       "      <td>-0.636692</td>\n",
       "      <td>-0.639031</td>\n",
       "      <td>-0.633398</td>\n",
       "      <td>-0.116761</td>\n",
       "      <td>-0.244644</td>\n",
       "      <td>1.000000</td>\n",
       "    </tr>\n",
       "  </tbody>\n",
       "</table>\n",
       "</div>"
      ],
      "text/plain": [
       "                                               Year  \\\n",
       "Year                                       1.000000   \n",
       "All_Ages_SAIPE_Poverty_Universe            0.006787   \n",
       "All_Ages_in_Poverty_Count                 -0.043739   \n",
       "All_Ages_in_Poverty_Count_LB_90%          -0.044234   \n",
       "All_Ages_in_Poverty_Count_UB_90%          -0.043253   \n",
       "All_Ages_in_Poverty_Percent               -0.231767   \n",
       "All_Ages_in_Poverty_Percent_LB_90%        -0.232219   \n",
       "All_Ages_in_Poverty_Percent_UB_90%        -0.230644   \n",
       "Median_Household_Income_in_Dollars         0.297648   \n",
       "Median_Household_Income_in_Dollars_LB_90%  0.296356   \n",
       "Median_Household_Income_in_Dollars_UB_90%  0.298417   \n",
       "Deaths                                     0.019231   \n",
       "Population                                 0.006789   \n",
       "Crude Rate                                 0.085468   \n",
       "\n",
       "                                           All_Ages_SAIPE_Poverty_Universe  \\\n",
       "Year                                                              0.006787   \n",
       "All_Ages_SAIPE_Poverty_Universe                                   1.000000   \n",
       "All_Ages_in_Poverty_Count                                         0.986846   \n",
       "All_Ages_in_Poverty_Count_LB_90%                                  0.986754   \n",
       "All_Ages_in_Poverty_Count_UB_90%                                  0.986928   \n",
       "All_Ages_in_Poverty_Percent                                       0.101825   \n",
       "All_Ages_in_Poverty_Percent_LB_90%                                0.137744   \n",
       "All_Ages_in_Poverty_Percent_UB_90%                                0.066026   \n",
       "Median_Household_Income_in_Dollars                                0.082509   \n",
       "Median_Household_Income_in_Dollars_LB_90%                         0.109176   \n",
       "Median_Household_Income_in_Dollars_UB_90%                         0.056562   \n",
       "Deaths                                                            0.977282   \n",
       "Population                                                        0.999988   \n",
       "Crude Rate                                                       -0.246211   \n",
       "\n",
       "                                           All_Ages_in_Poverty_Count  \\\n",
       "Year                                                       -0.043739   \n",
       "All_Ages_SAIPE_Poverty_Universe                             0.986846   \n",
       "All_Ages_in_Poverty_Count                                   1.000000   \n",
       "All_Ages_in_Poverty_Count_LB_90%                            0.999996   \n",
       "All_Ages_in_Poverty_Count_UB_90%                            0.999996   \n",
       "All_Ages_in_Poverty_Percent                                 0.216769   \n",
       "All_Ages_in_Poverty_Percent_LB_90%                          0.250734   \n",
       "All_Ages_in_Poverty_Percent_UB_90%                          0.182568   \n",
       "Median_Household_Income_in_Dollars                         -0.027136   \n",
       "Median_Household_Income_in_Dollars_LB_90%                  -0.002082   \n",
       "Median_Household_Income_in_Dollars_UB_90%                  -0.051344   \n",
       "Deaths                                                      0.967169   \n",
       "Population                                                  0.986888   \n",
       "Crude Rate                                                 -0.198769   \n",
       "\n",
       "                                           All_Ages_in_Poverty_Count_LB_90%  \\\n",
       "Year                                                              -0.044234   \n",
       "All_Ages_SAIPE_Poverty_Universe                                    0.986754   \n",
       "All_Ages_in_Poverty_Count                                          0.999996   \n",
       "All_Ages_in_Poverty_Count_LB_90%                                   1.000000   \n",
       "All_Ages_in_Poverty_Count_UB_90%                                   0.999983   \n",
       "All_Ages_in_Poverty_Percent                                        0.216444   \n",
       "All_Ages_in_Poverty_Percent_LB_90%                                 0.250341   \n",
       "All_Ages_in_Poverty_Percent_UB_90%                                 0.182310   \n",
       "Median_Household_Income_in_Dollars                                -0.026956   \n",
       "Median_Household_Income_in_Dollars_LB_90%                         -0.001961   \n",
       "Median_Household_Income_in_Dollars_UB_90%                         -0.051109   \n",
       "Deaths                                                             0.966759   \n",
       "Population                                                         0.986791   \n",
       "Crude Rate                                                        -0.199095   \n",
       "\n",
       "                                           All_Ages_in_Poverty_Count_UB_90%  \\\n",
       "Year                                                              -0.043253   \n",
       "All_Ages_SAIPE_Poverty_Universe                                    0.986928   \n",
       "All_Ages_in_Poverty_Count                                          0.999996   \n",
       "All_Ages_in_Poverty_Count_LB_90%                                   0.999983   \n",
       "All_Ages_in_Poverty_Count_UB_90%                                   1.000000   \n",
       "All_Ages_in_Poverty_Percent                                        0.217086   \n",
       "All_Ages_in_Poverty_Percent_LB_90%                                 0.251117   \n",
       "All_Ages_in_Poverty_Percent_UB_90%                                 0.182819   \n",
       "Median_Household_Income_in_Dollars                                -0.027312   \n",
       "Median_Household_Income_in_Dollars_LB_90%                         -0.002200   \n",
       "Median_Household_Income_in_Dollars_UB_90%                         -0.051575   \n",
       "Deaths                                                             0.967564   \n",
       "Population                                                         0.986975   \n",
       "Crude Rate                                                        -0.198447   \n",
       "\n",
       "                                           All_Ages_in_Poverty_Percent  \\\n",
       "Year                                                         -0.231767   \n",
       "All_Ages_SAIPE_Poverty_Universe                               0.101825   \n",
       "All_Ages_in_Poverty_Count                                     0.216769   \n",
       "All_Ages_in_Poverty_Count_LB_90%                              0.216444   \n",
       "All_Ages_in_Poverty_Count_UB_90%                              0.217086   \n",
       "All_Ages_in_Poverty_Percent                                   1.000000   \n",
       "All_Ages_in_Poverty_Percent_LB_90%                            0.998518   \n",
       "All_Ages_in_Poverty_Percent_UB_90%                            0.998552   \n",
       "Median_Household_Income_in_Dollars                           -0.754686   \n",
       "Median_Household_Income_in_Dollars_LB_90%                    -0.753851   \n",
       "Median_Household_Income_in_Dollars_UB_90%                    -0.754273   \n",
       "Deaths                                                        0.148091   \n",
       "Population                                                    0.102432   \n",
       "Crude Rate                                                    0.432602   \n",
       "\n",
       "                                           All_Ages_in_Poverty_Percent_LB_90%  \\\n",
       "Year                                                                -0.232219   \n",
       "All_Ages_SAIPE_Poverty_Universe                                      0.137744   \n",
       "All_Ages_in_Poverty_Count                                            0.250734   \n",
       "All_Ages_in_Poverty_Count_LB_90%                                     0.250341   \n",
       "All_Ages_in_Poverty_Count_UB_90%                                     0.251117   \n",
       "All_Ages_in_Poverty_Percent                                          0.998518   \n",
       "All_Ages_in_Poverty_Percent_LB_90%                                   1.000000   \n",
       "All_Ages_in_Poverty_Percent_UB_90%                                   0.994145   \n",
       "Median_Household_Income_in_Dollars                                  -0.756085   \n",
       "Median_Household_Income_in_Dollars_LB_90%                           -0.753225   \n",
       "Median_Household_Income_in_Dollars_UB_90%                           -0.757630   \n",
       "Deaths                                                               0.186596   \n",
       "Population                                                           0.138412   \n",
       "Crude Rate                                                           0.431617   \n",
       "\n",
       "                                           All_Ages_in_Poverty_Percent_UB_90%  \\\n",
       "Year                                                                -0.230644   \n",
       "All_Ages_SAIPE_Poverty_Universe                                      0.066026   \n",
       "All_Ages_in_Poverty_Count                                            0.182568   \n",
       "All_Ages_in_Poverty_Count_LB_90%                                     0.182310   \n",
       "All_Ages_in_Poverty_Count_UB_90%                                     0.182819   \n",
       "All_Ages_in_Poverty_Percent                                          0.998552   \n",
       "All_Ages_in_Poverty_Percent_LB_90%                                   0.994145   \n",
       "All_Ages_in_Poverty_Percent_UB_90%                                   1.000000   \n",
       "Median_Household_Income_in_Dollars                                  -0.751104   \n",
       "Median_Household_Income_in_Dollars_LB_90%                           -0.752275   \n",
       "Median_Household_Income_in_Dollars_UB_90%                           -0.748758   \n",
       "Deaths                                                               0.109602   \n",
       "Population                                                           0.066572   \n",
       "Crude Rate                                                           0.432316   \n",
       "\n",
       "                                           Median_Household_Income_in_Dollars  \\\n",
       "Year                                                                 0.297648   \n",
       "All_Ages_SAIPE_Poverty_Universe                                      0.082509   \n",
       "All_Ages_in_Poverty_Count                                           -0.027136   \n",
       "All_Ages_in_Poverty_Count_LB_90%                                    -0.026956   \n",
       "All_Ages_in_Poverty_Count_UB_90%                                    -0.027312   \n",
       "All_Ages_in_Poverty_Percent                                         -0.754686   \n",
       "All_Ages_in_Poverty_Percent_LB_90%                                  -0.756085   \n",
       "All_Ages_in_Poverty_Percent_UB_90%                                  -0.751104   \n",
       "Median_Household_Income_in_Dollars                                   1.000000   \n",
       "Median_Household_Income_in_Dollars_LB_90%                            0.999151   \n",
       "Median_Household_Income_in_Dollars_UB_90%                            0.999205   \n",
       "Deaths                                                               0.004153   \n",
       "Population                                                           0.081842   \n",
       "Crude Rate                                                          -0.636692   \n",
       "\n",
       "                                           Median_Household_Income_in_Dollars_LB_90%  \\\n",
       "Year                                                                        0.296356   \n",
       "All_Ages_SAIPE_Poverty_Universe                                             0.109176   \n",
       "All_Ages_in_Poverty_Count                                                  -0.002082   \n",
       "All_Ages_in_Poverty_Count_LB_90%                                           -0.001961   \n",
       "All_Ages_in_Poverty_Count_UB_90%                                           -0.002200   \n",
       "All_Ages_in_Poverty_Percent                                                -0.753851   \n",
       "All_Ages_in_Poverty_Percent_LB_90%                                         -0.753225   \n",
       "All_Ages_in_Poverty_Percent_UB_90%                                         -0.752275   \n",
       "Median_Household_Income_in_Dollars                                          0.999151   \n",
       "Median_Household_Income_in_Dollars_LB_90%                                   1.000000   \n",
       "Median_Household_Income_in_Dollars_UB_90%                                   0.996715   \n",
       "Deaths                                                                      0.032581   \n",
       "Population                                                                  0.108557   \n",
       "Crude Rate                                                                 -0.639031   \n",
       "\n",
       "                                           Median_Household_Income_in_Dollars_UB_90%  \\\n",
       "Year                                                                        0.298417   \n",
       "All_Ages_SAIPE_Poverty_Universe                                             0.056562   \n",
       "All_Ages_in_Poverty_Count                                                  -0.051344   \n",
       "All_Ages_in_Poverty_Count_LB_90%                                           -0.051109   \n",
       "All_Ages_in_Poverty_Count_UB_90%                                           -0.051575   \n",
       "All_Ages_in_Poverty_Percent                                                -0.754273   \n",
       "All_Ages_in_Poverty_Percent_LB_90%                                         -0.757630   \n",
       "All_Ages_in_Poverty_Percent_UB_90%                                         -0.748758   \n",
       "Median_Household_Income_in_Dollars                                          0.999205   \n",
       "Median_Household_Income_in_Dollars_LB_90%                                   0.996715   \n",
       "Median_Household_Income_in_Dollars_UB_90%                                   1.000000   \n",
       "Deaths                                                                     -0.023372   \n",
       "Population                                                                  0.055851   \n",
       "Crude Rate                                                                 -0.633398   \n",
       "\n",
       "                                             Deaths  Population  Crude Rate  \n",
       "Year                                       0.019231    0.006789    0.085468  \n",
       "All_Ages_SAIPE_Poverty_Universe            0.977282    0.999988   -0.246211  \n",
       "All_Ages_in_Poverty_Count                  0.967169    0.986888   -0.198769  \n",
       "All_Ages_in_Poverty_Count_LB_90%           0.966759    0.986791   -0.199095  \n",
       "All_Ages_in_Poverty_Count_UB_90%           0.967564    0.986975   -0.198447  \n",
       "All_Ages_in_Poverty_Percent                0.148091    0.102432    0.432602  \n",
       "All_Ages_in_Poverty_Percent_LB_90%         0.186596    0.138412    0.431617  \n",
       "All_Ages_in_Poverty_Percent_UB_90%         0.109602    0.066572    0.432316  \n",
       "Median_Household_Income_in_Dollars         0.004153    0.081842   -0.636692  \n",
       "Median_Household_Income_in_Dollars_LB_90%  0.032581    0.108557   -0.639031  \n",
       "Median_Household_Income_in_Dollars_UB_90% -0.023372    0.055851   -0.633398  \n",
       "Deaths                                     1.000000    0.977841   -0.116761  \n",
       "Population                                 0.977841    1.000000   -0.244644  \n",
       "Crude Rate                                -0.116761   -0.244644    1.000000  "
      ]
     },
     "execution_count": 4,
     "metadata": {},
     "output_type": "execute_result"
    }
   ],
   "source": [
    "df.corr()"
   ]
  },
  {
   "cell_type": "code",
   "execution_count": null,
   "metadata": {},
   "outputs": [],
   "source": [
    "df1 = df[['Year', 'All_Ages_in_Poverty_Count', 'Deaths']]"
   ]
  },
  {
   "cell_type": "code",
   "execution_count": null,
   "metadata": {},
   "outputs": [],
   "source": [
    "df1 = df1.groupby('Year', as_index=False).sum()"
   ]
  },
  {
   "cell_type": "code",
   "execution_count": null,
   "metadata": {},
   "outputs": [
    {
     "data": {
      "text/html": [
       "<div>\n",
       "<style scoped>\n",
       "    .dataframe tbody tr th:only-of-type {\n",
       "        vertical-align: middle;\n",
       "    }\n",
       "\n",
       "    .dataframe tbody tr th {\n",
       "        vertical-align: top;\n",
       "    }\n",
       "\n",
       "    .dataframe thead th {\n",
       "        text-align: right;\n",
       "    }\n",
       "</style>\n",
       "<table border=\"1\" class=\"dataframe\">\n",
       "  <thead>\n",
       "    <tr style=\"text-align: right;\">\n",
       "      <th></th>\n",
       "      <th>Year</th>\n",
       "      <th>All_Ages_in_Poverty_Count</th>\n",
       "      <th>Deaths</th>\n",
       "    </tr>\n",
       "  </thead>\n",
       "  <tbody>\n",
       "    <tr>\n",
       "      <th>0</th>\n",
       "      <td>2015</td>\n",
       "      <td>46153077</td>\n",
       "      <td>2712630</td>\n",
       "    </tr>\n",
       "    <tr>\n",
       "      <th>1</th>\n",
       "      <td>2016</td>\n",
       "      <td>44268993</td>\n",
       "      <td>2744248</td>\n",
       "    </tr>\n",
       "    <tr>\n",
       "      <th>2</th>\n",
       "      <td>2017</td>\n",
       "      <td>42583653</td>\n",
       "      <td>2813503</td>\n",
       "    </tr>\n",
       "    <tr>\n",
       "      <th>3</th>\n",
       "      <td>2018</td>\n",
       "      <td>41852315</td>\n",
       "      <td>2839205</td>\n",
       "    </tr>\n",
       "    <tr>\n",
       "      <th>4</th>\n",
       "      <td>2019</td>\n",
       "      <td>39490094</td>\n",
       "      <td>2854838</td>\n",
       "    </tr>\n",
       "  </tbody>\n",
       "</table>\n",
       "</div>"
      ],
      "text/plain": [
       "   Year  All_Ages_in_Poverty_Count   Deaths\n",
       "0  2015                   46153077  2712630\n",
       "1  2016                   44268993  2744248\n",
       "2  2017                   42583653  2813503\n",
       "3  2018                   41852315  2839205\n",
       "4  2019                   39490094  2854838"
      ]
     },
     "execution_count": 31,
     "metadata": {},
     "output_type": "execute_result"
    }
   ],
   "source": [
    "df1.head()"
   ]
  },
  {
   "cell_type": "code",
   "execution_count": null,
   "metadata": {},
   "outputs": [
    {
     "data": {
      "text/plain": [
       "<AxesSubplot:>"
      ]
     },
     "execution_count": 35,
     "metadata": {},
     "output_type": "execute_result"
    },
    {
     "data": {
      "image/png": "[encoded data removed]",
      "text/plain": [
       "<Figure size 1152x864 with 2 Axes>"
      ]
     },
     "metadata": {
      "needs_background": "light"
     },
     "output_type": "display_data"
    }
   ],
   "source": [
    "df_corr = df[['All_Ages_in_Poverty_Count', 'Deaths']]\r\n",
    "\r\n",
    "plt.figure(figsize=(16, 12))\r\n",
    "sns.heatmap(df_corr.corr(), cmap='YlGnBu', annot=True, fmt='.2f');\r\n"
   ]
  },
  {
   "cell_type": "code",
   "execution_count": null,
   "metadata": {},
   "outputs": [
    {
     "data": {
      "image/png": "[encoded data removed]",
      "text/plain": [
       "<Figure size 432x288 with 1 Axes>"
      ]
     },
     "metadata": {
      "needs_background": "light"
     },
     "output_type": "display_data"
    }
   ],
   "source": [
    "labels = df1['Year']\r\n",
    "poverty = df1['All_Ages_in_Poverty_Count']\r\n",
    "deaths = df1['Deaths']\r\n",
    "\r\n",
    "x = np.arange(len(labels))  # the label locations\r\n",
    "width = 0.35  # the width of the bars\r\n",
    "\r\n",
    "fig, ax = plt.subplots()\r\n",
    "rects1 = ax.bar(x - width/2, poverty, width, label='Poverty')\r\n",
    "rects2 = ax.bar(x + width/2, deaths, width, label='Deaths')\r\n",
    "\r\n",
    "# Add some text for labels, title and custom x-axis tick labels, etc.\r\n",
    "ax.set_ylabel('Count')\r\n",
    "ax.set_title('Count by Poverty and Deaths')\r\n",
    "ax.set_xticks(x)\r\n",
    "ax.set_xticklabels(labels)\r\n",
    "ax.legend()\r\n",
    "\r\n",
    "#ax.bar_label(rects1, padding=3)\r\n",
    "#ax.bar_label(rects2, padding=3)\r\n",
    "\r\n",
    "fig.tight_layout()\r\n",
    "\r\n",
    "plt.show()"
   ]
  },
  {
   "cell_type": "code",
   "execution_count": null,
   "metadata": {},
   "outputs": [
    {
     "data": {
      "text/plain": [
       "<AxesSubplot:xlabel='All_Ages_in_Poverty_Count', ylabel='Deaths'>"
      ]
     },
     "execution_count": 39,
     "metadata": {},
     "output_type": "execute_result"
    },
    {
     "data": {
      "image/png": "[encoded data removed]",
      "text/plain": [
       "<Figure size 432x288 with 1 Axes>"
      ]
     },
     "metadata": {
      "needs_background": "light"
     },
     "output_type": "display_data"
    }
   ],
   "source": [
    "sns.scatterplot( x=poverty, y=deaths, hue=labels)"
   ]
  },
  {
   "cell_type": "code",
   "execution_count": null,
   "metadata": {},
   "outputs": [
    {
     "data": {
      "text/plain": [
       "<AxesSubplot:xlabel='All_Ages_in_Poverty_Percent', ylabel='Crude Rate'>"
      ]
     },
     "execution_count": 43,
     "metadata": {},
     "output_type": "execute_result"
    },
    {
     "data": {
      "image/png": "[encoded data removed]",
      "text/plain": [
       "<Figure size 432x288 with 1 Axes>"
      ]
     },
     "metadata": {
      "needs_background": "light"
     },
     "output_type": "display_data"
    }
   ],
   "source": [
    "sns.scatterplot(x=df['All_Ages_in_Poverty_Percent'], y=df['Crude Rate'])"
   ]
  },
  {
   "cell_type": "code",
   "execution_count": null,
   "metadata": {},
   "outputs": [],
   "source": [
    "code = {'Alabama': 'AL',\r\n",
    "        'Alaska': 'AK',\r\n",
    "        'Arizona': 'AZ',\r\n",
    "        'Arkansas': 'AR',\r\n",
    "        'California': 'CA',\r\n",
    "        'Colorado': 'CO',\r\n",
    "        'Connecticut': 'CT',\r\n",
    "        'Delaware': 'DE',\r\n",
    "        'District of Columbia': 'DC',\r\n",
    "        'Florida': 'FL',\r\n",
    "        'Georgia': 'GA',\r\n",
    "        'Hawaii': 'HI',\r\n",
    "        'Idaho': 'ID',\r\n",
    "        'Illinois': 'IL',\r\n",
    "        'Indiana': 'IN',\r\n",
    "        'Iowa': 'IA',\r\n",
    "        'Kansas': 'KS',\r\n",
    "        'Kentucky': 'KY',\r\n",
    "        'Louisiana': 'LA',\r\n",
    "        'Maine': 'ME',\r\n",
    "        'Maryland': 'MD',\r\n",
    "        'Massachusetts': 'MA',\r\n",
    "        'Michigan': 'MI',\r\n",
    "        'Minnesota': 'MN',\r\n",
    "        'Mississippi': 'MS',\r\n",
    "        'Missouri': 'MO',\r\n",
    "        'Montana': 'MT',\r\n",
    "        'Nebraska': 'NE',\r\n",
    "        'Nevada': 'NV',\r\n",
    "        'New Hampshire': 'NH',\r\n",
    "        'New Jersey': 'NJ',\r\n",
    "        'New Mexico': 'NM',\r\n",
    "        'New York': 'NY',\r\n",
    "        'North Carolina': 'NC',\r\n",
    "        'North Dakota': 'ND',\r\n",
    "        'Ohio': 'OH',\r\n",
    "        'Oklahoma': 'OK',\r\n",
    "        'Oregon': 'OR',\r\n",
    "        'Pennsylvania': 'PA',\r\n",
    "        'Rhode Island': 'RI',\r\n",
    "        'South Carolina': 'SC',\r\n",
    "        'South Dakota': 'SD',\r\n",
    "        'Tennessee': 'TN',\r\n",
    "        'Texas': 'TX',\r\n",
    "        'Utah': 'UT',\r\n",
    "        'Vermont': 'VT',\r\n",
    "        'Virginia': 'VA',\r\n",
    "        'Washington': 'WA',\r\n",
    "        'West Virginia': 'WV',\r\n",
    "        'Wisconsin': 'WI',\r\n",
    "        'Wyoming': 'WY'}"
   ]
  },
  {
   "cell_type": "code",
   "execution_count": null,
   "metadata": {},
   "outputs": [],
   "source": [
    "df['Code'] = df['State'].map(code)"
   ]
  },
  {
   "cell_type": "code",
   "execution_count": null,
   "metadata": {},
   "outputs": [],
   "source": [
    "df.Code = df.Code.astype(str)"
   ]
  },
  {
   "cell_type": "code",
   "execution_count": null,
   "metadata": {},
   "outputs": [],
   "source": [
    "df2015 = df.loc[df['Year'] == 2015]\r\n",
    "df2016 = df.loc[df['Year'] == 2016]\r\n",
    "df2017 = df.loc[df['Year'] == 2017]\r\n",
    "df2018 = df.loc[df['Year'] == 2018]\r\n",
    "df2019 = df.loc[df['Year'] == 2019]"
   ]
  },
  {
   "cell_type": "code",
   "execution_count": null,
   "metadata": {},
   "outputs": [
    {
     "data": {
      "text/html": [
       "<div>\n",
       "<style scoped>\n",
       "    .dataframe tbody tr th:only-of-type {\n",
       "        vertical-align: middle;\n",
       "    }\n",
       "\n",
       "    .dataframe tbody tr th {\n",
       "        vertical-align: top;\n",
       "    }\n",
       "\n",
       "    .dataframe thead th {\n",
       "        text-align: right;\n",
       "    }\n",
       "</style>\n",
       "<table border=\"1\" class=\"dataframe\">\n",
       "  <thead>\n",
       "    <tr style=\"text-align: right;\">\n",
       "      <th></th>\n",
       "      <th>State</th>\n",
       "      <th>Year</th>\n",
       "      <th>All_Ages_SAIPE_Poverty_Universe</th>\n",
       "      <th>All_Ages_in_Poverty_Count</th>\n",
       "      <th>All_Ages_in_Poverty_Count_LB_90%</th>\n",
       "      <th>All_Ages_in_Poverty_Count_UB_90%</th>\n",
       "      <th>90%_Confidence_Interval_(All_Ages_in_Poverty_Count)</th>\n",
       "      <th>All_Ages_in_Poverty_Percent</th>\n",
       "      <th>All_Ages_in_Poverty_Percent_LB_90%</th>\n",
       "      <th>All_Ages_in_Poverty_Percent_UB_90%</th>\n",
       "      <th>90%_Confidence_Interval_(All_Ages_in_Poverty_Percent)</th>\n",
       "      <th>Median_Household_Income_in_Dollars</th>\n",
       "      <th>Median_Household_Income_in_Dollars_LB_90%</th>\n",
       "      <th>Median_Household_Income_in_Dollars_UB_90%</th>\n",
       "      <th>90%_Confidence_Interval_(Median_Household_Income_in_Dollars)</th>\n",
       "      <th>Deaths</th>\n",
       "      <th>Population</th>\n",
       "      <th>Crude Rate</th>\n",
       "      <th>Code</th>\n",
       "    </tr>\n",
       "  </thead>\n",
       "  <tbody>\n",
       "    <tr>\n",
       "      <th>1</th>\n",
       "      <td>Alabama</td>\n",
       "      <td>2015</td>\n",
       "      <td>4736374</td>\n",
       "      <td>875853</td>\n",
       "      <td>859781</td>\n",
       "      <td>891925</td>\n",
       "      <td>859,781 to 891,925</td>\n",
       "      <td>18.5</td>\n",
       "      <td>18.2</td>\n",
       "      <td>18.8</td>\n",
       "      <td>18.2 to 18.8</td>\n",
       "      <td>44833</td>\n",
       "      <td>44110</td>\n",
       "      <td>45556</td>\n",
       "      <td>$44,110 to $45,556</td>\n",
       "      <td>51909</td>\n",
       "      <td>4858979</td>\n",
       "      <td>1068.3</td>\n",
       "      <td>AL</td>\n",
       "    </tr>\n",
       "    <tr>\n",
       "      <th>3</th>\n",
       "      <td>Alaska</td>\n",
       "      <td>2015</td>\n",
       "      <td>720764</td>\n",
       "      <td>74941</td>\n",
       "      <td>71399</td>\n",
       "      <td>78483</td>\n",
       "      <td>71,399 to 78,483</td>\n",
       "      <td>10.4</td>\n",
       "      <td>9.9</td>\n",
       "      <td>10.9</td>\n",
       "      <td>9.9 to 10.9</td>\n",
       "      <td>73391</td>\n",
       "      <td>71522</td>\n",
       "      <td>75260</td>\n",
       "      <td>$71,522 to $75,260</td>\n",
       "      <td>4316</td>\n",
       "      <td>738432</td>\n",
       "      <td>584.5</td>\n",
       "      <td>AK</td>\n",
       "    </tr>\n",
       "    <tr>\n",
       "      <th>5</th>\n",
       "      <td>Arizona</td>\n",
       "      <td>2015</td>\n",
       "      <td>6671708</td>\n",
       "      <td>1159046</td>\n",
       "      <td>1136666</td>\n",
       "      <td>1181426</td>\n",
       "      <td>1,136,666 to 1,181,426</td>\n",
       "      <td>17.4</td>\n",
       "      <td>17.1</td>\n",
       "      <td>17.7</td>\n",
       "      <td>17.1 to 17.7</td>\n",
       "      <td>51473</td>\n",
       "      <td>51046</td>\n",
       "      <td>51900</td>\n",
       "      <td>$51,046 to $51,900</td>\n",
       "      <td>54299</td>\n",
       "      <td>6828065</td>\n",
       "      <td>795.2</td>\n",
       "      <td>AZ</td>\n",
       "    </tr>\n",
       "    <tr>\n",
       "      <th>7</th>\n",
       "      <td>Arkansas</td>\n",
       "      <td>2015</td>\n",
       "      <td>2887336</td>\n",
       "      <td>540733</td>\n",
       "      <td>528756</td>\n",
       "      <td>552710</td>\n",
       "      <td>528,756 to 552,710</td>\n",
       "      <td>18.7</td>\n",
       "      <td>18.3</td>\n",
       "      <td>19.1</td>\n",
       "      <td>18.3 to 19.1</td>\n",
       "      <td>42046</td>\n",
       "      <td>41574</td>\n",
       "      <td>42518</td>\n",
       "      <td>$41,574 to $42,518</td>\n",
       "      <td>31617</td>\n",
       "      <td>2978204</td>\n",
       "      <td>1061.6</td>\n",
       "      <td>AR</td>\n",
       "    </tr>\n",
       "    <tr>\n",
       "      <th>8</th>\n",
       "      <td>California</td>\n",
       "      <td>2015</td>\n",
       "      <td>38398077</td>\n",
       "      <td>5896255</td>\n",
       "      <td>5844717</td>\n",
       "      <td>5947793</td>\n",
       "      <td>5,844,717 to 5,947,793</td>\n",
       "      <td>15.4</td>\n",
       "      <td>15.3</td>\n",
       "      <td>15.5</td>\n",
       "      <td>15.3 to 15.5</td>\n",
       "      <td>64483</td>\n",
       "      <td>64091</td>\n",
       "      <td>64875</td>\n",
       "      <td>$64,091 to $64,875</td>\n",
       "      <td>259206</td>\n",
       "      <td>39144818</td>\n",
       "      <td>662.2</td>\n",
       "      <td>CA</td>\n",
       "    </tr>\n",
       "  </tbody>\n",
       "</table>\n",
       "</div>"
      ],
      "text/plain": [
       "        State  Year  All_Ages_SAIPE_Poverty_Universe  \\\n",
       "1     Alabama  2015                          4736374   \n",
       "3      Alaska  2015                           720764   \n",
       "5     Arizona  2015                          6671708   \n",
       "7    Arkansas  2015                          2887336   \n",
       "8  California  2015                         38398077   \n",
       "\n",
       "   All_Ages_in_Poverty_Count  All_Ages_in_Poverty_Count_LB_90%  \\\n",
       "1                     875853                            859781   \n",
       "3                      74941                             71399   \n",
       "5                    1159046                           1136666   \n",
       "7                     540733                            528756   \n",
       "8                    5896255                           5844717   \n",
       "\n",
       "   All_Ages_in_Poverty_Count_UB_90%  \\\n",
       "1                            891925   \n",
       "3                             78483   \n",
       "5                           1181426   \n",
       "7                            552710   \n",
       "8                           5947793   \n",
       "\n",
       "  90%_Confidence_Interval_(All_Ages_in_Poverty_Count)  \\\n",
       "1                                 859,781 to 891,925    \n",
       "3                                   71,399 to 78,483    \n",
       "5                             1,136,666 to 1,181,426    \n",
       "7                                 528,756 to 552,710    \n",
       "8                             5,844,717 to 5,947,793    \n",
       "\n",
       "   All_Ages_in_Poverty_Percent  All_Ages_in_Poverty_Percent_LB_90%  \\\n",
       "1                         18.5                                18.2   \n",
       "3                         10.4                                 9.9   \n",
       "5                         17.4                                17.1   \n",
       "7                         18.7                                18.3   \n",
       "8                         15.4                                15.3   \n",
       "\n",
       "   All_Ages_in_Poverty_Percent_UB_90%  \\\n",
       "1                                18.8   \n",
       "3                                10.9   \n",
       "5                                17.7   \n",
       "7                                19.1   \n",
       "8                                15.5   \n",
       "\n",
       "  90%_Confidence_Interval_(All_Ages_in_Poverty_Percent)  \\\n",
       "1                                       18.2 to 18.8      \n",
       "3                                        9.9 to 10.9      \n",
       "5                                       17.1 to 17.7      \n",
       "7                                       18.3 to 19.1      \n",
       "8                                       15.3 to 15.5      \n",
       "\n",
       "   Median_Household_Income_in_Dollars  \\\n",
       "1                               44833   \n",
       "3                               73391   \n",
       "5                               51473   \n",
       "7                               42046   \n",
       "8                               64483   \n",
       "\n",
       "   Median_Household_Income_in_Dollars_LB_90%  \\\n",
       "1                                      44110   \n",
       "3                                      71522   \n",
       "5                                      51046   \n",
       "7                                      41574   \n",
       "8                                      64091   \n",
       "\n",
       "   Median_Household_Income_in_Dollars_UB_90%  \\\n",
       "1                                      45556   \n",
       "3                                      75260   \n",
       "5                                      51900   \n",
       "7                                      42518   \n",
       "8                                      64875   \n",
       "\n",
       "  90%_Confidence_Interval_(Median_Household_Income_in_Dollars)  Deaths  \\\n",
       "1                                 $44,110 to $45,556             51909   \n",
       "3                                 $71,522 to $75,260              4316   \n",
       "5                                 $51,046 to $51,900             54299   \n",
       "7                                 $41,574 to $42,518             31617   \n",
       "8                                 $64,091 to $64,875            259206   \n",
       "\n",
       "   Population  Crude Rate Code  \n",
       "1     4858979      1068.3   AL  \n",
       "3      738432       584.5   AK  \n",
       "5     6828065       795.2   AZ  \n",
       "7     2978204      1061.6   AR  \n",
       "8    39144818       662.2   CA  "
      ]
     },
     "execution_count": 16,
     "metadata": {},
     "output_type": "execute_result"
    }
   ],
   "source": [
    "df2015.head()"
   ]
  },
  {
   "cell_type": "code",
   "execution_count": null,
   "metadata": {},
   "outputs": [
    {
     "ename": "NameError",
     "evalue": "name 'df2015' is not defined",
     "output_type": "error",
     "traceback": [
      "\u001b[1;31m---------------------------------------------------------------------------\u001b[0m",
      "\u001b[1;31mNameError\u001b[0m                                 Traceback (most recent call last)",
      "\u001b[1;32m<ipython-input-1-f75dc198c8ab>\u001b[0m in \u001b[0;36m<module>\u001b[1;34m\u001b[0m\n\u001b[1;32m----> 1\u001b[1;33m \u001b[0mdf2015\u001b[0m\u001b[1;33m.\u001b[0m\u001b[0mDeaths\u001b[0m\u001b[1;33m\u001b[0m\u001b[1;33m\u001b[0m\u001b[0m\n\u001b[0m",
      "\u001b[1;31mNameError\u001b[0m: name 'df2015' is not defined"
     ]
    }
   ],
   "source": [
    "df2015.Deaths"
   ]
  },
  {
   "cell_type": "code",
   "execution_count": null,
   "metadata": {},
   "outputs": [
    {
     "data": {
      "application/vnd.plotly.v1+json": {
       "config": {
        "plotlyServerURL": "https://plot.ly"
       },
       "data": [
        {
         "coloraxis": "coloraxis",
         "geo": "geo",
         "hovertemplate": "<b>%{hovertext}</b><br><br>Code=%{location}<br>Count of Deaths=%{z}<extra></extra>",
         "hovertext": [
          "Alabama",
          "Alaska",
          "Arizona",
          "Arkansas",
          "California",
          "Colorado",
          "Connecticut",
          "Delaware",
          "District of Columbia",
          "Florida",
          "Georgia",
          "Hawaii",
          "Idaho",
          "Illinois",
          "Indiana",
          "Iowa",
          "Kansas",
          "Kentucky",
          "Louisiana",
          "Maine",
          "Maryland",
          "Massachusetts",
          "Michigan",
          "Minnesota",
          "Mississippi",
          "Missouri",
          "Montana",
          "Nebraska",
          "Nevada",
          "New Hampshire",
          "New Jersey",
          "New Mexico",
          "New York",
          "North Carolina",
          "North Dakota",
          "Ohio",
          "Oklahoma",
          "Oregon",
          "Pennsylvania",
          "Rhode Island",
          "South Carolina",
          "South Dakota",
          "Tennessee",
          "Texas",
          "Utah",
          "Vermont",
          "Virginia",
          "Washington",
          "West Virginia",
          "Wisconsin",
          "Wyoming"
         ],
         "locationmode": "USA-states",
         "locations": [
          "AL",
          "AK",
          "AZ",
          "AR",
          "CA",
          "CO",
          "CT",
          "DE",
          "DC",
          "FL",
          "GA",
          "HI",
          "ID",
          "IL",
          "IN",
          "IA",
          "KS",
          "KY",
          "LA",
          "ME",
          "MD",
          "MA",
          "MI",
          "MN",
          "MS",
          "MO",
          "MT",
          "NE",
          "NV",
          "NH",
          "NJ",
          "NM",
          "NY",
          "NC",
          "ND",
          "OH",
          "OK",
          "OR",
          "PA",
          "RI",
          "SC",
          "SD",
          "TN",
          "TX",
          "UT",
          "VT",
          "VA",
          "WA",
          "WV",
          "WI",
          "WY"
         ],
         "name": "",
         "type": "choropleth",
         "z": [
          51909,
          4316,
          54299,
          31617,
          259206,
          36349,
          30535,
          8582,
          4871,
          191737,
          79942,
          11053,
          13026,
          106872,
          62713,
          29600,
          26664,
          46564,
          43716,
          14479,
          47247,
          57806,
          95140,
          42800,
          31783,
          59871,
          9942,
          16740,
          22879,
          11984,
          72271,
          17685,
          153628,
          89133,
          6223,
          118188,
          39422,
          35705,
          132598,
          10163,
          47198,
          7731,
          66570,
          189654,
          17334,
          5919,
          65577,
          54595,
          22752,
          51264,
          4778
         ]
        },
        {
         "locationmode": "USA-states",
         "locations": [
          "AL",
          "AK",
          "AZ",
          "AR",
          "CA",
          "CO",
          "CT",
          "DE",
          "DC",
          "FL",
          "GA",
          "HI",
          "ID",
          "IL",
          "IN",
          "IA",
          "KS",
          "KY",
          "LA",
          "ME",
          "MD",
          "MA",
          "MI",
          "MN",
          "MS",
          "MO",
          "MT",
          "NE",
          "NV",
          "NH",
          "NJ",
          "NM",
          "NY",
          "NC",
          "ND",
          "OH",
          "OK",
          "OR",
          "PA",
          "RI",
          "SC",
          "SD",
          "TN",
          "TX",
          "UT",
          "VT",
          "VA",
          "WA",
          "WV",
          "WI",
          "WY"
         ],
         "mode": "text",
         "text": [
          "AL",
          "AK",
          "AZ",
          "AR",
          "CA",
          "CO",
          "CT",
          "DE",
          "DC",
          "FL",
          "GA",
          "HI",
          "ID",
          "IL",
          "IN",
          "IA",
          "KS",
          "KY",
          "LA",
          "ME",
          "MD",
          "MA",
          "MI",
          "MN",
          "MS",
          "MO",
          "MT",
          "NE",
          "NV",
          "NH",
          "NJ",
          "NM",
          "NY",
          "NC",
          "ND",
          "OH",
          "OK",
          "OR",
          "PA",
          "RI",
          "SC",
          "SD",
          "TN",
          "TX",
          "UT",
          "VT",
          "VA",
          "WA",
          "WV",
          "WI",
          "WY"
         ],
         "type": "scattergeo"
        }
       ],
       "layout": {
        "coloraxis": {
         "colorbar": {
          "title": {
           "text": "Count of Deaths"
          }
         },
         "colorscale": [
          [
           0,
           "rgb(94,79,162)"
          ],
          [
           0.1,
           "rgb(50,136,189)"
          ],
          [
           0.2,
           "rgb(102,194,165)"
          ],
          [
           0.3,
           "rgb(171,221,164)"
          ],
          [
           0.4,
           "rgb(230,245,152)"
          ],
          [
           0.5,
           "rgb(255,255,191)"
          ],
          [
           0.6,
           "rgb(254,224,139)"
          ],
          [
           0.7,
           "rgb(253,174,97)"
          ],
          [
           0.8,
           "rgb(244,109,67)"
          ],
          [
           0.9,
           "rgb(213,62,79)"
          ],
          [
           1,
           "rgb(158,1,66)"
          ]
         ]
        },
        "geo": {
         "center": {},
         "domain": {
          "x": [
           0,
           1
          ],
          "y": [
           0,
           1
          ]
         },
         "scope": "usa"
        },
        "legend": {
         "tracegroupgap": 0
        },
        "margin": {
         "t": 60
        },
        "template": {
         "data": {
          "bar": [
           {
            "error_x": {
             "color": "#2a3f5f"
            },
            "error_y": {
             "color": "#2a3f5f"
            },
            "marker": {
             "line": {
              "color": "#E5ECF6",
              "width": 0.5
             }
            },
            "type": "bar"
           }
          ],
          "barpolar": [
           {
            "marker": {
             "line": {
              "color": "#E5ECF6",
              "width": 0.5
             }
            },
            "type": "barpolar"
           }
          ],
          "carpet": [
           {
            "aaxis": {
             "endlinecolor": "#2a3f5f",
             "gridcolor": "white",
             "linecolor": "white",
             "minorgridcolor": "white",
             "startlinecolor": "#2a3f5f"
            },
            "baxis": {
             "endlinecolor": "#2a3f5f",
             "gridcolor": "white",
             "linecolor": "white",
             "minorgridcolor": "white",
             "startlinecolor": "#2a3f5f"
            },
            "type": "carpet"
           }
          ],
          "choropleth": [
           {
            "colorbar": {
             "outlinewidth": 0,
             "ticks": ""
            },
            "type": "choropleth"
           }
          ],
          "contour": [
           {
            "colorbar": {
             "outlinewidth": 0,
             "ticks": ""
            },
            "colorscale": [
             [
              0,
              "#0d0887"
             ],
             [
              0.1111111111111111,
              "#46039f"
             ],
             [
              0.2222222222222222,
              "#7201a8"
             ],
             [
              0.3333333333333333,
              "#9c179e"
             ],
             [
              0.4444444444444444,
              "#bd3786"
             ],
             [
              0.5555555555555556,
              "#d8576b"
             ],
             [
              0.6666666666666666,
              "#ed7953"
             ],
             [
              0.7777777777777778,
              "#fb9f3a"
             ],
             [
              0.8888888888888888,
              "#fdca26"
             ],
             [
              1,
              "#f0f921"
             ]
            ],
            "type": "contour"
           }
          ],
          "contourcarpet": [
           {
            "colorbar": {
             "outlinewidth": 0,
             "ticks": ""
            },
            "type": "contourcarpet"
           }
          ],
          "heatmap": [
           {
            "colorbar": {
             "outlinewidth": 0,
             "ticks": ""
            },
            "colorscale": [
             [
              0,
              "#0d0887"
             ],
             [
              0.1111111111111111,
              "#46039f"
             ],
             [
              0.2222222222222222,
              "#7201a8"
             ],
             [
              0.3333333333333333,
              "#9c179e"
             ],
             [
              0.4444444444444444,
              "#bd3786"
             ],
             [
              0.5555555555555556,
              "#d8576b"
             ],
             [
              0.6666666666666666,
              "#ed7953"
             ],
             [
              0.7777777777777778,
              "#fb9f3a"
             ],
             [
              0.8888888888888888,
              "#fdca26"
             ],
             [
              1,
              "#f0f921"
             ]
            ],
            "type": "heatmap"
           }
          ],
          "heatmapgl": [
           {
            "colorbar": {
             "outlinewidth": 0,
             "ticks": ""
            },
            "colorscale": [
             [
              0,
              "#0d0887"
             ],
             [
              0.1111111111111111,
              "#46039f"
             ],
             [
              0.2222222222222222,
              "#7201a8"
             ],
             [
              0.3333333333333333,
              "#9c179e"
             ],
             [
              0.4444444444444444,
              "#bd3786"
             ],
             [
              0.5555555555555556,
              "#d8576b"
             ],
             [
              0.6666666666666666,
              "#ed7953"
             ],
             [
              0.7777777777777778,
              "#fb9f3a"
             ],
             [
              0.8888888888888888,
              "#fdca26"
             ],
             [
              1,
              "#f0f921"
             ]
            ],
            "type": "heatmapgl"
           }
          ],
          "histogram": [
           {
            "marker": {
             "colorbar": {
              "outlinewidth": 0,
              "ticks": ""
             }
            },
            "type": "histogram"
           }
          ],
          "histogram2d": [
           {
            "colorbar": {
             "outlinewidth": 0,
             "ticks": ""
            },
            "colorscale": [
             [
              0,
              "#0d0887"
             ],
             [
              0.1111111111111111,
              "#46039f"
             ],
             [
              0.2222222222222222,
              "#7201a8"
             ],
             [
              0.3333333333333333,
              "#9c179e"
             ],
             [
              0.4444444444444444,
              "#bd3786"
             ],
             [
              0.5555555555555556,
              "#d8576b"
             ],
             [
              0.6666666666666666,
              "#ed7953"
             ],
             [
              0.7777777777777778,
              "#fb9f3a"
             ],
             [
              0.8888888888888888,
              "#fdca26"
             ],
             [
              1,
              "#f0f921"
             ]
            ],
            "type": "histogram2d"
           }
          ],
          "histogram2dcontour": [
           {
            "colorbar": {
             "outlinewidth": 0,
             "ticks": ""
            },
            "colorscale": [
             [
              0,
              "#0d0887"
             ],
             [
              0.1111111111111111,
              "#46039f"
             ],
             [
              0.2222222222222222,
              "#7201a8"
             ],
             [
              0.3333333333333333,
              "#9c179e"
             ],
             [
              0.4444444444444444,
              "#bd3786"
             ],
             [
              0.5555555555555556,
              "#d8576b"
             ],
             [
              0.6666666666666666,
              "#ed7953"
             ],
             [
              0.7777777777777778,
              "#fb9f3a"
             ],
             [
              0.8888888888888888,
              "#fdca26"
             ],
             [
              1,
              "#f0f921"
             ]
            ],
            "type": "histogram2dcontour"
           }
          ],
          "mesh3d": [
           {
            "colorbar": {
             "outlinewidth": 0,
             "ticks": ""
            },
            "type": "mesh3d"
           }
          ],
          "parcoords": [
           {
            "line": {
             "colorbar": {
              "outlinewidth": 0,
              "ticks": ""
             }
            },
            "type": "parcoords"
           }
          ],
          "pie": [
           {
            "automargin": true,
            "type": "pie"
           }
          ],
          "scatter": [
           {
            "marker": {
             "colorbar": {
              "outlinewidth": 0,
              "ticks": ""
             }
            },
            "type": "scatter"
           }
          ],
          "scatter3d": [
           {
            "line": {
             "colorbar": {
              "outlinewidth": 0,
              "ticks": ""
             }
            },
            "marker": {
             "colorbar": {
              "outlinewidth": 0,
              "ticks": ""
             }
            },
            "type": "scatter3d"
           }
          ],
          "scattercarpet": [
           {
            "marker": {
             "colorbar": {
              "outlinewidth": 0,
              "ticks": ""
             }
            },
            "type": "scattercarpet"
           }
          ],
          "scattergeo": [
           {
            "marker": {
             "colorbar": {
              "outlinewidth": 0,
              "ticks": ""
             }
            },
            "type": "scattergeo"
           }
          ],
          "scattergl": [
           {
            "marker": {
             "colorbar": {
              "outlinewidth": 0,
              "ticks": ""
             }
            },
            "type": "scattergl"
           }
          ],
          "scattermapbox": [
           {
            "marker": {
             "colorbar": {
              "outlinewidth": 0,
              "ticks": ""
             }
            },
            "type": "scattermapbox"
           }
          ],
          "scatterpolar": [
           {
            "marker": {
             "colorbar": {
              "outlinewidth": 0,
              "ticks": ""
             }
            },
            "type": "scatterpolar"
           }
          ],
          "scatterpolargl": [
           {
            "marker": {
             "colorbar": {
              "outlinewidth": 0,
              "ticks": ""
             }
            },
            "type": "scatterpolargl"
           }
          ],
          "scatterternary": [
           {
            "marker": {
             "colorbar": {
              "outlinewidth": 0,
              "ticks": ""
             }
            },
            "type": "scatterternary"
           }
          ],
          "surface": [
           {
            "colorbar": {
             "outlinewidth": 0,
             "ticks": ""
            },
            "colorscale": [
             [
              0,
              "#0d0887"
             ],
             [
              0.1111111111111111,
              "#46039f"
             ],
             [
              0.2222222222222222,
              "#7201a8"
             ],
             [
              0.3333333333333333,
              "#9c179e"
             ],
             [
              0.4444444444444444,
              "#bd3786"
             ],
             [
              0.5555555555555556,
              "#d8576b"
             ],
             [
              0.6666666666666666,
              "#ed7953"
             ],
             [
              0.7777777777777778,
              "#fb9f3a"
             ],
             [
              0.8888888888888888,
              "#fdca26"
             ],
             [
              1,
              "#f0f921"
             ]
            ],
            "type": "surface"
           }
          ],
          "table": [
           {
            "cells": {
             "fill": {
              "color": "#EBF0F8"
             },
             "line": {
              "color": "white"
             }
            },
            "header": {
             "fill": {
              "color": "#C8D4E3"
             },
             "line": {
              "color": "white"
             }
            },
            "type": "table"
           }
          ]
         },
         "layout": {
          "annotationdefaults": {
           "arrowcolor": "#2a3f5f",
           "arrowhead": 0,
           "arrowwidth": 1
          },
          "autotypenumbers": "strict",
          "coloraxis": {
           "colorbar": {
            "outlinewidth": 0,
            "ticks": ""
           }
          },
          "colorscale": {
           "diverging": [
            [
             0,
             "#8e0152"
            ],
            [
             0.1,
             "#c51b7d"
            ],
            [
             0.2,
             "#de77ae"
            ],
            [
             0.3,
             "#f1b6da"
            ],
            [
             0.4,
             "#fde0ef"
            ],
            [
             0.5,
             "#f7f7f7"
            ],
            [
             0.6,
             "#e6f5d0"
            ],
            [
             0.7,
             "#b8e186"
            ],
            [
             0.8,
             "#7fbc41"
            ],
            [
             0.9,
             "#4d9221"
            ],
            [
             1,
             "#276419"
            ]
           ],
           "sequential": [
            [
             0,
             "#0d0887"
            ],
            [
             0.1111111111111111,
             "#46039f"
            ],
            [
             0.2222222222222222,
             "#7201a8"
            ],
            [
             0.3333333333333333,
             "#9c179e"
            ],
            [
             0.4444444444444444,
             "#bd3786"
            ],
            [
             0.5555555555555556,
             "#d8576b"
            ],
            [
             0.6666666666666666,
             "#ed7953"
            ],
            [
             0.7777777777777778,
             "#fb9f3a"
            ],
            [
             0.8888888888888888,
             "#fdca26"
            ],
            [
             1,
             "#f0f921"
            ]
           ],
           "sequentialminus": [
            [
             0,
             "#0d0887"
            ],
            [
             0.1111111111111111,
             "#46039f"
            ],
            [
             0.2222222222222222,
             "#7201a8"
            ],
            [
             0.3333333333333333,
             "#9c179e"
            ],
            [
             0.4444444444444444,
             "#bd3786"
            ],
            [
             0.5555555555555556,
             "#d8576b"
            ],
            [
             0.6666666666666666,
             "#ed7953"
            ],
            [
             0.7777777777777778,
             "#fb9f3a"
            ],
            [
             0.8888888888888888,
             "#fdca26"
            ],
            [
             1,
             "#f0f921"
            ]
           ]
          },
          "colorway": [
           "#636efa",
           "#EF553B",
           "#00cc96",
           "#ab63fa",
           "#FFA15A",
           "#19d3f3",
           "#FF6692",
           "#B6E880",
           "#FF97FF",
           "#FECB52"
          ],
          "font": {
           "color": "#2a3f5f"
          },
          "geo": {
           "bgcolor": "white",
           "lakecolor": "white",
           "landcolor": "#E5ECF6",
           "showlakes": true,
           "showland": true,
           "subunitcolor": "white"
          },
          "hoverlabel": {
           "align": "left"
          },
          "hovermode": "closest",
          "mapbox": {
           "style": "light"
          },
          "paper_bgcolor": "white",
          "plot_bgcolor": "#E5ECF6",
          "polar": {
           "angularaxis": {
            "gridcolor": "white",
            "linecolor": "white",
            "ticks": ""
           },
           "bgcolor": "#E5ECF6",
           "radialaxis": {
            "gridcolor": "white",
            "linecolor": "white",
            "ticks": ""
           }
          },
          "scene": {
           "xaxis": {
            "backgroundcolor": "#E5ECF6",
            "gridcolor": "white",
            "gridwidth": 2,
            "linecolor": "white",
            "showbackground": true,
            "ticks": "",
            "zerolinecolor": "white"
           },
           "yaxis": {
            "backgroundcolor": "#E5ECF6",
            "gridcolor": "white",
            "gridwidth": 2,
            "linecolor": "white",
            "showbackground": true,
            "ticks": "",
            "zerolinecolor": "white"
           },
           "zaxis": {
            "backgroundcolor": "#E5ECF6",
            "gridcolor": "white",
            "gridwidth": 2,
            "linecolor": "white",
            "showbackground": true,
            "ticks": "",
            "zerolinecolor": "white"
           }
          },
          "shapedefaults": {
           "line": {
            "color": "#2a3f5f"
           }
          },
          "ternary": {
           "aaxis": {
            "gridcolor": "white",
            "linecolor": "white",
            "ticks": ""
           },
           "baxis": {
            "gridcolor": "white",
            "linecolor": "white",
            "ticks": ""
           },
           "bgcolor": "#E5ECF6",
           "caxis": {
            "gridcolor": "white",
            "linecolor": "white",
            "ticks": ""
           }
          },
          "title": {
           "x": 0.05
          },
          "xaxis": {
           "automargin": true,
           "gridcolor": "white",
           "linecolor": "white",
           "ticks": "",
           "title": {
            "standoff": 15
           },
           "zerolinecolor": "white",
           "zerolinewidth": 2
          },
          "yaxis": {
           "automargin": true,
           "gridcolor": "white",
           "linecolor": "white",
           "ticks": "",
           "title": {
            "standoff": 15
           },
           "zerolinecolor": "white",
           "zerolinewidth": 2
          }
         }
        }
       }
      }
     },
     "metadata": {},
     "output_type": "display_data"
    }
   ],
   "source": [
    "fig = px.choropleth(df2015,\r\n",
    "                    locations='Code',\r\n",
    "                    color='Deaths',\r\n",
    "                    color_continuous_scale='spectral_r',\r\n",
    "                    hover_name='State',\r\n",
    "                    locationmode='USA-states',\r\n",
    "                    labels={'Deaths':'Count of Deaths'},\r\n",
    "                    scope='usa')\r\n",
    "\r\n",
    "fig.add_scattergeo(\r\n",
    "    locations=df2015['Code'],\r\n",
    "    locationmode='USA-states',\r\n",
    "    text=df2015['Code'],\r\n",
    "    mode='text')\r\n",
    "\r\n",
    "fig.show()"
   ]
  },
  {
   "cell_type": "code",
   "execution_count": null,
   "metadata": {},
   "outputs": [],
   "source": []
  }
 ],
 "metadata": {
  "interpreter": {
   "hash": "38740d3277777e2cd7c6c2cc9d8addf5118fdf3f82b1b39231fd12aeac8aee8b"
  },
  "kernelspec": {
   "display_name": "Python 3.9.2 64-bit",
   "name": "python3"
  },
  "language_info": {
   "codemirror_mode": {
    "name": "ipython",
    "version": 3
   },
   "file_extension": ".py",
   "mimetype": "text/x-python",
   "name": "python",
   "nbconvert_exporter": "python",
   "pygments_lexer": "ipython3",
   "version": "3.9.2"
  },
  "orig_nbformat": 4
 },
 "nbformat": 4,
 "nbformat_minor": 2
}